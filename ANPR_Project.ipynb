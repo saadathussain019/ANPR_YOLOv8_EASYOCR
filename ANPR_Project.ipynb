{
 "cells": [
  {
   "cell_type": "markdown",
   "id": "87729778",
   "metadata": {},
   "source": [
    "# Semester Project - Artificial Intelligence\n",
    "## Automatic Number Plate Recognition\n",
    "## Bahria University Islamabad \n",
    "\n",
    "### Group Members:   \n",
    "**Saadat Hussain - 01-134211-078**  \n",
    "**Shanze Malik - 01-134211-085**  \n",
    "  \n",
    "**Class-Section: BSCS 6-B**"
   ]
  },
  {
   "cell_type": "code",
   "execution_count": null,
   "id": "411803a5",
   "metadata": {},
   "outputs": [],
   "source": [
    "!pip install ultralytics easyocr"
   ]
  },
  {
   "cell_type": "code",
   "execution_count": 1,
   "id": "5b2c8f58",
   "metadata": {},
   "outputs": [
    {
     "ename": "ModuleNotFoundError",
     "evalue": "No module named 'easyocr'",
     "output_type": "error",
     "traceback": [
      "\u001b[1;31m---------------------------------------------------------------------------\u001b[0m",
      "\u001b[1;31mModuleNotFoundError\u001b[0m                       Traceback (most recent call last)",
      "Cell \u001b[1;32mIn[1], line 7\u001b[0m\n\u001b[0;32m      5\u001b[0m \u001b[38;5;28;01mimport\u001b[39;00m \u001b[38;5;21;01mos\u001b[39;00m\n\u001b[0;32m      6\u001b[0m \u001b[38;5;28;01mimport\u001b[39;00m \u001b[38;5;21;01mnumpy\u001b[39;00m \u001b[38;5;28;01mas\u001b[39;00m \u001b[38;5;21;01mnp\u001b[39;00m\n\u001b[1;32m----> 7\u001b[0m \u001b[38;5;28;01mimport\u001b[39;00m \u001b[38;5;21;01measyocr\u001b[39;00m\n",
      "\u001b[1;31mModuleNotFoundError\u001b[0m: No module named 'easyocr'"
     ]
    }
   ],
   "source": [
    "import tensorflow as tf\n",
    "import cv2 \n",
    "import matplotlib.pyplot as plt\n",
    "import xml.etree.ElementTree as ET\n",
    "import os\n",
    "import numpy as np\n",
    "import easyocr"
   ]
  },
  {
   "cell_type": "code",
   "execution_count": 6,
   "id": "114b3111",
   "metadata": {},
   "outputs": [],
   "source": [
    "DATA_DIR = \"data\"\n",
    "folders = [\"train\", \"test\"]"
   ]
  },
  {
   "cell_type": "markdown",
   "id": "59a562c0",
   "metadata": {},
   "source": [
    "# 1. Moving Data Into Proper Directories"
   ]
  },
  {
   "cell_type": "code",
   "execution_count": 11,
   "id": "e9366d8d",
   "metadata": {},
   "outputs": [
    {
     "data": {
      "text/plain": [
       "['Cars0.xml',\n",
       " 'Cars1.xml',\n",
       " 'Cars10.xml',\n",
       " 'Cars100.xml',\n",
       " 'Cars101.xml',\n",
       " 'Cars102.xml',\n",
       " 'Cars103.xml',\n",
       " 'Cars104.xml',\n",
       " 'Cars105.xml',\n",
       " 'Cars106.xml',\n",
       " 'Cars107.xml',\n",
       " 'Cars108.xml',\n",
       " 'Cars109.xml',\n",
       " 'Cars11.xml',\n",
       " 'Cars110.xml',\n",
       " 'Cars111.xml',\n",
       " 'Cars112.xml',\n",
       " 'Cars113.xml',\n",
       " 'Cars114.xml',\n",
       " 'Cars115.xml',\n",
       " 'Cars116.xml',\n",
       " 'Cars117.xml',\n",
       " 'Cars118.xml',\n",
       " 'Cars119.xml',\n",
       " 'Cars12.xml',\n",
       " 'Cars120.xml',\n",
       " 'Cars121.xml',\n",
       " 'Cars122.xml',\n",
       " 'Cars123.xml',\n",
       " 'Cars124.xml',\n",
       " 'Cars125.xml',\n",
       " 'Cars126.xml',\n",
       " 'Cars127.xml',\n",
       " 'Cars128.xml',\n",
       " 'Cars129.xml',\n",
       " 'Cars13.xml',\n",
       " 'Cars130.xml',\n",
       " 'Cars131.xml',\n",
       " 'Cars132.xml',\n",
       " 'Cars133.xml',\n",
       " 'Cars134.xml',\n",
       " 'Cars135.xml',\n",
       " 'Cars136.xml',\n",
       " 'Cars137.xml',\n",
       " 'Cars138.xml',\n",
       " 'Cars139.xml',\n",
       " 'Cars14.xml',\n",
       " 'Cars140.xml',\n",
       " 'Cars141.xml',\n",
       " 'Cars142.xml',\n",
       " 'Cars143.xml',\n",
       " 'Cars144.xml',\n",
       " 'Cars145.xml',\n",
       " 'Cars146.xml',\n",
       " 'Cars147.xml',\n",
       " 'Cars148.xml',\n",
       " 'Cars149.xml',\n",
       " 'Cars15.xml',\n",
       " 'Cars150.xml',\n",
       " 'Cars151.xml',\n",
       " 'Cars152.xml',\n",
       " 'Cars153.xml',\n",
       " 'Cars154.xml',\n",
       " 'Cars155.xml',\n",
       " 'Cars156.xml',\n",
       " 'Cars157.xml',\n",
       " 'Cars158.xml',\n",
       " 'Cars159.xml',\n",
       " 'Cars16.xml',\n",
       " 'Cars160.xml',\n",
       " 'Cars161.xml',\n",
       " 'Cars162.xml',\n",
       " 'Cars163.xml',\n",
       " 'Cars164.xml',\n",
       " 'Cars165.xml',\n",
       " 'Cars166.xml',\n",
       " 'Cars167.xml',\n",
       " 'Cars168.xml',\n",
       " 'Cars169.xml',\n",
       " 'Cars17.xml',\n",
       " 'Cars170.xml',\n",
       " 'Cars171.xml',\n",
       " 'Cars172.xml',\n",
       " 'Cars173.xml',\n",
       " 'Cars174.xml',\n",
       " 'Cars175.xml',\n",
       " 'Cars176.xml',\n",
       " 'Cars177.xml',\n",
       " 'Cars178.xml',\n",
       " 'Cars179.xml',\n",
       " 'Cars18.xml',\n",
       " 'Cars180.xml',\n",
       " 'Cars181.xml',\n",
       " 'Cars182.xml',\n",
       " 'Cars183.xml',\n",
       " 'Cars184.xml',\n",
       " 'Cars185.xml',\n",
       " 'Cars186.xml',\n",
       " 'Cars187.xml',\n",
       " 'Cars188.xml',\n",
       " 'Cars189.xml',\n",
       " 'Cars19.xml',\n",
       " 'Cars190.xml',\n",
       " 'Cars191.xml',\n",
       " 'Cars192.xml',\n",
       " 'Cars193.xml',\n",
       " 'Cars194.xml',\n",
       " 'Cars195.xml',\n",
       " 'Cars196.xml',\n",
       " 'Cars197.xml',\n",
       " 'Cars198.xml',\n",
       " 'Cars199.xml',\n",
       " 'Cars2.xml',\n",
       " 'Cars20.xml',\n",
       " 'Cars200.xml',\n",
       " 'Cars201.xml',\n",
       " 'Cars202.xml',\n",
       " 'Cars203.xml',\n",
       " 'Cars204.xml',\n",
       " 'Cars205.xml',\n",
       " 'Cars206.xml',\n",
       " 'Cars207.xml',\n",
       " 'Cars208.xml',\n",
       " 'Cars209.xml',\n",
       " 'Cars21.xml',\n",
       " 'Cars210.xml',\n",
       " 'Cars211.xml',\n",
       " 'Cars212.xml',\n",
       " 'Cars213.xml',\n",
       " 'Cars214.xml',\n",
       " 'Cars215.xml',\n",
       " 'Cars216.xml',\n",
       " 'Cars217.xml',\n",
       " 'Cars218.xml',\n",
       " 'Cars219.xml',\n",
       " 'Cars22.xml',\n",
       " 'Cars220.xml',\n",
       " 'Cars221.xml',\n",
       " 'Cars222.xml',\n",
       " 'Cars223.xml',\n",
       " 'Cars224.xml',\n",
       " 'Cars225.xml',\n",
       " 'Cars226.xml',\n",
       " 'Cars227.xml',\n",
       " 'Cars228.xml',\n",
       " 'Cars229.xml',\n",
       " 'Cars23.xml',\n",
       " 'Cars230.xml',\n",
       " 'Cars231.xml',\n",
       " 'Cars232.xml',\n",
       " 'Cars233.xml',\n",
       " 'Cars234.xml',\n",
       " 'Cars235.xml',\n",
       " 'Cars236.xml',\n",
       " 'Cars237.xml',\n",
       " 'Cars238.xml',\n",
       " 'Cars239.xml',\n",
       " 'Cars24.xml',\n",
       " 'Cars240.xml',\n",
       " 'Cars241.xml',\n",
       " 'Cars242.xml',\n",
       " 'Cars243.xml',\n",
       " 'Cars244.xml',\n",
       " 'Cars245.xml',\n",
       " 'Cars246.xml',\n",
       " 'Cars247.xml',\n",
       " 'Cars248.xml',\n",
       " 'Cars249.xml',\n",
       " 'Cars25.xml',\n",
       " 'Cars250.xml',\n",
       " 'Cars251.xml',\n",
       " 'Cars252.xml',\n",
       " 'Cars253.xml',\n",
       " 'Cars254.xml',\n",
       " 'Cars255.xml',\n",
       " 'Cars256.xml',\n",
       " 'Cars257.xml',\n",
       " 'Cars258.xml',\n",
       " 'Cars259.xml',\n",
       " 'Cars26.xml',\n",
       " 'Cars260.xml',\n",
       " 'Cars261.xml',\n",
       " 'Cars262.xml',\n",
       " 'Cars263.xml',\n",
       " 'Cars264.xml',\n",
       " 'Cars265.xml',\n",
       " 'Cars266.xml',\n",
       " 'Cars267.xml',\n",
       " 'Cars268.xml',\n",
       " 'Cars269.xml',\n",
       " 'Cars27.xml',\n",
       " 'Cars270.xml',\n",
       " 'Cars271.xml',\n",
       " 'Cars272.xml',\n",
       " 'Cars273.xml',\n",
       " 'Cars274.xml',\n",
       " 'Cars275.xml',\n",
       " 'Cars276.xml',\n",
       " 'Cars277.xml',\n",
       " 'Cars278.xml',\n",
       " 'Cars279.xml',\n",
       " 'Cars28.xml',\n",
       " 'Cars280.xml',\n",
       " 'Cars281.xml',\n",
       " 'Cars282.xml',\n",
       " 'Cars283.xml',\n",
       " 'Cars284.xml',\n",
       " 'Cars285.xml',\n",
       " 'Cars286.xml',\n",
       " 'Cars287.xml',\n",
       " 'Cars288.xml',\n",
       " 'Cars289.xml',\n",
       " 'Cars29.xml',\n",
       " 'Cars290.xml',\n",
       " 'Cars291.xml',\n",
       " 'Cars292.xml',\n",
       " 'Cars293.xml',\n",
       " 'Cars294.xml',\n",
       " 'Cars295.xml',\n",
       " 'Cars296.xml',\n",
       " 'Cars297.xml',\n",
       " 'Cars298.xml',\n",
       " 'Cars299.xml',\n",
       " 'Cars3.xml',\n",
       " 'Cars30.xml',\n",
       " 'Cars300.xml',\n",
       " 'Cars301.xml',\n",
       " 'Cars302.xml',\n",
       " 'Cars303.xml',\n",
       " 'Cars304.xml',\n",
       " 'Cars305.xml',\n",
       " 'Cars306.xml',\n",
       " 'Cars307.xml',\n",
       " 'Cars308.xml',\n",
       " 'Cars309.xml',\n",
       " 'Cars31.xml',\n",
       " 'Cars310.xml',\n",
       " 'Cars311.xml',\n",
       " 'Cars312.xml',\n",
       " 'Cars313.xml',\n",
       " 'Cars314.xml',\n",
       " 'Cars315.xml',\n",
       " 'Cars316.xml',\n",
       " 'Cars317.xml',\n",
       " 'Cars318.xml',\n",
       " 'Cars319.xml',\n",
       " 'Cars32.xml',\n",
       " 'Cars320.xml',\n",
       " 'Cars321.xml',\n",
       " 'Cars322.xml',\n",
       " 'Cars323.xml',\n",
       " 'Cars324.xml',\n",
       " 'Cars325.xml',\n",
       " 'Cars326.xml',\n",
       " 'Cars327.xml',\n",
       " 'Cars328.xml',\n",
       " 'Cars329.xml',\n",
       " 'Cars33.xml',\n",
       " 'Cars330.xml',\n",
       " 'Cars331.xml',\n",
       " 'Cars332.xml',\n",
       " 'Cars333.xml',\n",
       " 'Cars334.xml',\n",
       " 'Cars335.xml',\n",
       " 'Cars336.xml',\n",
       " 'Cars337.xml',\n",
       " 'Cars338.xml',\n",
       " 'Cars339.xml',\n",
       " 'Cars34.xml',\n",
       " 'Cars340.xml',\n",
       " 'Cars341.xml',\n",
       " 'Cars342.xml',\n",
       " 'Cars343.xml',\n",
       " 'Cars344.xml',\n",
       " 'Cars345.xml',\n",
       " 'Cars346.xml',\n",
       " 'Cars347.xml',\n",
       " 'Cars348.xml',\n",
       " 'Cars349.xml',\n",
       " 'Cars35.xml',\n",
       " 'Cars350.xml',\n",
       " 'Cars351.xml',\n",
       " 'Cars352.xml',\n",
       " 'Cars353.xml',\n",
       " 'Cars354.xml',\n",
       " 'Cars355.xml',\n",
       " 'Cars356.xml',\n",
       " 'Cars357.xml',\n",
       " 'Cars358.xml',\n",
       " 'Cars359.xml',\n",
       " 'Cars36.xml',\n",
       " 'Cars360.xml',\n",
       " 'Cars361.xml',\n",
       " 'Cars362.xml',\n",
       " 'Cars363.xml',\n",
       " 'Cars364.xml',\n",
       " 'Cars365.xml',\n",
       " 'Cars366.xml',\n",
       " 'Cars367.xml',\n",
       " 'Cars368.xml',\n",
       " 'Cars369.xml',\n",
       " 'Cars37.xml',\n",
       " 'Cars370.xml',\n",
       " 'Cars371.xml',\n",
       " 'Cars372.xml',\n",
       " 'Cars373.xml',\n",
       " 'Cars374.xml',\n",
       " 'Cars375.xml',\n",
       " 'Cars376.xml',\n",
       " 'Cars377.xml',\n",
       " 'Cars378.xml',\n",
       " 'Cars379.xml',\n",
       " 'Cars38.xml',\n",
       " 'Cars380.xml',\n",
       " 'Cars381.xml',\n",
       " 'Cars382.xml',\n",
       " 'Cars383.xml',\n",
       " 'Cars384.xml',\n",
       " 'Cars385.xml',\n",
       " 'Cars386.xml',\n",
       " 'Cars387.xml',\n",
       " 'Cars388.xml',\n",
       " 'Cars389.xml',\n",
       " 'Cars39.xml',\n",
       " 'Cars390.xml',\n",
       " 'Cars391.xml',\n",
       " 'Cars392.xml',\n",
       " 'Cars393.xml',\n",
       " 'Cars394.xml',\n",
       " 'Cars395.xml',\n",
       " 'Cars396.xml',\n",
       " 'Cars397.xml',\n",
       " 'Cars398.xml',\n",
       " 'Cars399.xml',\n",
       " 'Cars4.xml',\n",
       " 'Cars40.xml',\n",
       " 'Cars400.xml',\n",
       " 'Cars401.xml',\n",
       " 'Cars402.xml',\n",
       " 'Cars403.xml',\n",
       " 'Cars404.xml',\n",
       " 'Cars405.xml',\n",
       " 'Cars406.xml',\n",
       " 'Cars407.xml',\n",
       " 'Cars408.xml',\n",
       " 'Cars409.xml',\n",
       " 'Cars41.xml',\n",
       " 'Cars410.xml',\n",
       " 'Cars42.xml',\n",
       " 'Cars43.xml',\n",
       " 'Cars44.xml',\n",
       " 'Cars45.xml',\n",
       " 'Cars46.xml',\n",
       " 'Cars47.xml',\n",
       " 'Cars48.xml',\n",
       " 'Cars49.xml',\n",
       " 'Cars5.xml',\n",
       " 'Cars50.xml',\n",
       " 'Cars51.xml',\n",
       " 'Cars52.xml',\n",
       " 'Cars53.xml',\n",
       " 'Cars54.xml',\n",
       " 'Cars55.xml',\n",
       " 'Cars56.xml',\n",
       " 'Cars57.xml',\n",
       " 'Cars58.xml',\n",
       " 'Cars59.xml',\n",
       " 'Cars6.xml',\n",
       " 'Cars60.xml',\n",
       " 'Cars61.xml',\n",
       " 'Cars62.xml',\n",
       " 'Cars63.xml',\n",
       " 'Cars64.xml',\n",
       " 'Cars65.xml',\n",
       " 'Cars66.xml',\n",
       " 'Cars67.xml',\n",
       " 'Cars68.xml',\n",
       " 'Cars69.xml',\n",
       " 'Cars7.xml',\n",
       " 'Cars70.xml',\n",
       " 'Cars71.xml',\n",
       " 'Cars72.xml',\n",
       " 'Cars73.xml',\n",
       " 'Cars74.xml',\n",
       " 'Cars75.xml',\n",
       " 'Cars76.xml',\n",
       " 'Cars77.xml',\n",
       " 'Cars78.xml',\n",
       " 'Cars79.xml',\n",
       " 'Cars8.xml',\n",
       " 'Cars80.xml',\n",
       " 'Cars81.xml',\n",
       " 'Cars82.xml',\n",
       " 'Cars83.xml',\n",
       " 'Cars84.xml',\n",
       " 'Cars85.xml',\n",
       " 'Cars86.xml',\n",
       " 'Cars87.xml',\n",
       " 'Cars88.xml',\n",
       " 'Cars89.xml',\n",
       " 'Cars9.xml',\n",
       " 'Cars90.xml',\n",
       " 'Cars91.xml',\n",
       " 'Cars92.xml',\n",
       " 'Cars93.xml',\n",
       " 'Cars94.xml',\n",
       " 'Cars95.xml',\n",
       " 'Cars96.xml',\n",
       " 'Cars97.xml',\n",
       " 'Cars98.xml',\n",
       " 'Cars99.xml']"
      ]
     },
     "execution_count": 11,
     "metadata": {},
     "output_type": "execute_result"
    }
   ],
   "source": [
    "selected_files = [file for file in os.listdir(train_path) if file.endswith(\".xml\")]\n",
    "\n",
    "selected_files"
   ]
  },
  {
   "cell_type": "code",
   "execution_count": 15,
   "id": "6fd77652",
   "metadata": {},
   "outputs": [],
   "source": [
    "try:\n",
    "    os.makedirs(os.path.join(\"train_labels\"))\n",
    "except:\n",
    "    print(\"Directory already created!\")"
   ]
  },
  {
   "cell_type": "markdown",
   "id": "e5ddcd53",
   "metadata": {},
   "source": [
    "### 1.1 Moving Labels From Images Folder "
   ]
  },
  {
   "cell_type": "code",
   "execution_count": 18,
   "id": "256f7569",
   "metadata": {},
   "outputs": [
    {
     "name": "stdout",
     "output_type": "stream",
     "text": [
      "Moving file path from train\\Cars0.xml to train_labels\\Cars0.xml\n",
      "Moving file path from train\\Cars1.xml to train_labels\\Cars1.xml\n",
      "Moving file path from train\\Cars10.xml to train_labels\\Cars10.xml\n",
      "Moving file path from train\\Cars100.xml to train_labels\\Cars100.xml\n",
      "Moving file path from train\\Cars101.xml to train_labels\\Cars101.xml\n",
      "Moving file path from train\\Cars102.xml to train_labels\\Cars102.xml\n",
      "Moving file path from train\\Cars103.xml to train_labels\\Cars103.xml\n",
      "Moving file path from train\\Cars104.xml to train_labels\\Cars104.xml\n",
      "Moving file path from train\\Cars105.xml to train_labels\\Cars105.xml\n",
      "Moving file path from train\\Cars106.xml to train_labels\\Cars106.xml\n",
      "Moving file path from train\\Cars107.xml to train_labels\\Cars107.xml\n",
      "Moving file path from train\\Cars108.xml to train_labels\\Cars108.xml\n",
      "Moving file path from train\\Cars109.xml to train_labels\\Cars109.xml\n",
      "Moving file path from train\\Cars11.xml to train_labels\\Cars11.xml\n",
      "Moving file path from train\\Cars110.xml to train_labels\\Cars110.xml\n",
      "Moving file path from train\\Cars111.xml to train_labels\\Cars111.xml\n",
      "Moving file path from train\\Cars112.xml to train_labels\\Cars112.xml\n",
      "Moving file path from train\\Cars113.xml to train_labels\\Cars113.xml\n",
      "Moving file path from train\\Cars114.xml to train_labels\\Cars114.xml\n",
      "Moving file path from train\\Cars115.xml to train_labels\\Cars115.xml\n",
      "Moving file path from train\\Cars116.xml to train_labels\\Cars116.xml\n",
      "Moving file path from train\\Cars117.xml to train_labels\\Cars117.xml\n",
      "Moving file path from train\\Cars118.xml to train_labels\\Cars118.xml\n",
      "Moving file path from train\\Cars119.xml to train_labels\\Cars119.xml\n",
      "Moving file path from train\\Cars12.xml to train_labels\\Cars12.xml\n",
      "Moving file path from train\\Cars120.xml to train_labels\\Cars120.xml\n",
      "Moving file path from train\\Cars121.xml to train_labels\\Cars121.xml\n",
      "Moving file path from train\\Cars122.xml to train_labels\\Cars122.xml\n",
      "Moving file path from train\\Cars123.xml to train_labels\\Cars123.xml\n",
      "Moving file path from train\\Cars124.xml to train_labels\\Cars124.xml\n",
      "Moving file path from train\\Cars125.xml to train_labels\\Cars125.xml\n",
      "Moving file path from train\\Cars126.xml to train_labels\\Cars126.xml\n",
      "Moving file path from train\\Cars127.xml to train_labels\\Cars127.xml\n",
      "Moving file path from train\\Cars128.xml to train_labels\\Cars128.xml\n",
      "Moving file path from train\\Cars129.xml to train_labels\\Cars129.xml\n",
      "Moving file path from train\\Cars13.xml to train_labels\\Cars13.xml\n",
      "Moving file path from train\\Cars130.xml to train_labels\\Cars130.xml\n",
      "Moving file path from train\\Cars131.xml to train_labels\\Cars131.xml\n",
      "Moving file path from train\\Cars132.xml to train_labels\\Cars132.xml\n",
      "Moving file path from train\\Cars133.xml to train_labels\\Cars133.xml\n",
      "Moving file path from train\\Cars134.xml to train_labels\\Cars134.xml\n",
      "Moving file path from train\\Cars135.xml to train_labels\\Cars135.xml\n",
      "Moving file path from train\\Cars136.xml to train_labels\\Cars136.xml\n",
      "Moving file path from train\\Cars137.xml to train_labels\\Cars137.xml\n",
      "Moving file path from train\\Cars138.xml to train_labels\\Cars138.xml\n",
      "Moving file path from train\\Cars139.xml to train_labels\\Cars139.xml\n",
      "Moving file path from train\\Cars14.xml to train_labels\\Cars14.xml\n",
      "Moving file path from train\\Cars140.xml to train_labels\\Cars140.xml\n",
      "Moving file path from train\\Cars141.xml to train_labels\\Cars141.xml\n",
      "Moving file path from train\\Cars142.xml to train_labels\\Cars142.xml\n",
      "Moving file path from train\\Cars143.xml to train_labels\\Cars143.xml\n",
      "Moving file path from train\\Cars144.xml to train_labels\\Cars144.xml\n",
      "Moving file path from train\\Cars145.xml to train_labels\\Cars145.xml\n",
      "Moving file path from train\\Cars146.xml to train_labels\\Cars146.xml\n",
      "Moving file path from train\\Cars147.xml to train_labels\\Cars147.xml\n",
      "Moving file path from train\\Cars148.xml to train_labels\\Cars148.xml\n",
      "Moving file path from train\\Cars149.xml to train_labels\\Cars149.xml\n",
      "Moving file path from train\\Cars15.xml to train_labels\\Cars15.xml\n",
      "Moving file path from train\\Cars150.xml to train_labels\\Cars150.xml\n",
      "Moving file path from train\\Cars151.xml to train_labels\\Cars151.xml\n",
      "Moving file path from train\\Cars152.xml to train_labels\\Cars152.xml\n",
      "Moving file path from train\\Cars153.xml to train_labels\\Cars153.xml\n",
      "Moving file path from train\\Cars154.xml to train_labels\\Cars154.xml\n",
      "Moving file path from train\\Cars155.xml to train_labels\\Cars155.xml\n",
      "Moving file path from train\\Cars156.xml to train_labels\\Cars156.xml\n",
      "Moving file path from train\\Cars157.xml to train_labels\\Cars157.xml\n",
      "Moving file path from train\\Cars158.xml to train_labels\\Cars158.xml\n",
      "Moving file path from train\\Cars159.xml to train_labels\\Cars159.xml\n",
      "Moving file path from train\\Cars16.xml to train_labels\\Cars16.xml\n",
      "Moving file path from train\\Cars160.xml to train_labels\\Cars160.xml\n",
      "Moving file path from train\\Cars161.xml to train_labels\\Cars161.xml\n",
      "Moving file path from train\\Cars162.xml to train_labels\\Cars162.xml\n",
      "Moving file path from train\\Cars163.xml to train_labels\\Cars163.xml\n",
      "Moving file path from train\\Cars164.xml to train_labels\\Cars164.xml\n",
      "Moving file path from train\\Cars165.xml to train_labels\\Cars165.xml\n",
      "Moving file path from train\\Cars166.xml to train_labels\\Cars166.xml\n",
      "Moving file path from train\\Cars167.xml to train_labels\\Cars167.xml\n",
      "Moving file path from train\\Cars168.xml to train_labels\\Cars168.xml\n",
      "Moving file path from train\\Cars169.xml to train_labels\\Cars169.xml\n",
      "Moving file path from train\\Cars17.xml to train_labels\\Cars17.xml\n",
      "Moving file path from train\\Cars170.xml to train_labels\\Cars170.xml\n",
      "Moving file path from train\\Cars171.xml to train_labels\\Cars171.xml\n",
      "Moving file path from train\\Cars172.xml to train_labels\\Cars172.xml\n",
      "Moving file path from train\\Cars173.xml to train_labels\\Cars173.xml\n",
      "Moving file path from train\\Cars174.xml to train_labels\\Cars174.xml\n",
      "Moving file path from train\\Cars175.xml to train_labels\\Cars175.xml\n",
      "Moving file path from train\\Cars176.xml to train_labels\\Cars176.xml\n",
      "Moving file path from train\\Cars177.xml to train_labels\\Cars177.xml\n",
      "Moving file path from train\\Cars178.xml to train_labels\\Cars178.xml\n",
      "Moving file path from train\\Cars179.xml to train_labels\\Cars179.xml\n",
      "Moving file path from train\\Cars18.xml to train_labels\\Cars18.xml\n",
      "Moving file path from train\\Cars180.xml to train_labels\\Cars180.xml\n",
      "Moving file path from train\\Cars181.xml to train_labels\\Cars181.xml\n",
      "Moving file path from train\\Cars182.xml to train_labels\\Cars182.xml\n",
      "Moving file path from train\\Cars183.xml to train_labels\\Cars183.xml\n",
      "Moving file path from train\\Cars184.xml to train_labels\\Cars184.xml\n",
      "Moving file path from train\\Cars185.xml to train_labels\\Cars185.xml\n",
      "Moving file path from train\\Cars186.xml to train_labels\\Cars186.xml\n",
      "Moving file path from train\\Cars187.xml to train_labels\\Cars187.xml\n",
      "Moving file path from train\\Cars188.xml to train_labels\\Cars188.xml\n",
      "Moving file path from train\\Cars189.xml to train_labels\\Cars189.xml\n",
      "Moving file path from train\\Cars19.xml to train_labels\\Cars19.xml\n",
      "Moving file path from train\\Cars190.xml to train_labels\\Cars190.xml\n",
      "Moving file path from train\\Cars191.xml to train_labels\\Cars191.xml\n",
      "Moving file path from train\\Cars192.xml to train_labels\\Cars192.xml\n",
      "Moving file path from train\\Cars193.xml to train_labels\\Cars193.xml\n",
      "Moving file path from train\\Cars194.xml to train_labels\\Cars194.xml\n",
      "Moving file path from train\\Cars195.xml to train_labels\\Cars195.xml\n",
      "Moving file path from train\\Cars196.xml to train_labels\\Cars196.xml\n",
      "Moving file path from train\\Cars197.xml to train_labels\\Cars197.xml\n",
      "Moving file path from train\\Cars198.xml to train_labels\\Cars198.xml\n",
      "Moving file path from train\\Cars199.xml to train_labels\\Cars199.xml\n",
      "Moving file path from train\\Cars2.xml to train_labels\\Cars2.xml\n",
      "Moving file path from train\\Cars20.xml to train_labels\\Cars20.xml\n",
      "Moving file path from train\\Cars200.xml to train_labels\\Cars200.xml\n",
      "Moving file path from train\\Cars201.xml to train_labels\\Cars201.xml\n",
      "Moving file path from train\\Cars202.xml to train_labels\\Cars202.xml\n",
      "Moving file path from train\\Cars203.xml to train_labels\\Cars203.xml\n",
      "Moving file path from train\\Cars204.xml to train_labels\\Cars204.xml\n",
      "Moving file path from train\\Cars205.xml to train_labels\\Cars205.xml\n",
      "Moving file path from train\\Cars206.xml to train_labels\\Cars206.xml\n",
      "Moving file path from train\\Cars207.xml to train_labels\\Cars207.xml\n",
      "Moving file path from train\\Cars208.xml to train_labels\\Cars208.xml\n",
      "Moving file path from train\\Cars209.xml to train_labels\\Cars209.xml\n",
      "Moving file path from train\\Cars21.xml to train_labels\\Cars21.xml\n",
      "Moving file path from train\\Cars210.xml to train_labels\\Cars210.xml\n",
      "Moving file path from train\\Cars211.xml to train_labels\\Cars211.xml\n",
      "Moving file path from train\\Cars212.xml to train_labels\\Cars212.xml\n",
      "Moving file path from train\\Cars213.xml to train_labels\\Cars213.xml\n",
      "Moving file path from train\\Cars214.xml to train_labels\\Cars214.xml\n",
      "Moving file path from train\\Cars215.xml to train_labels\\Cars215.xml\n",
      "Moving file path from train\\Cars216.xml to train_labels\\Cars216.xml\n",
      "Moving file path from train\\Cars217.xml to train_labels\\Cars217.xml\n",
      "Moving file path from train\\Cars218.xml to train_labels\\Cars218.xml\n",
      "Moving file path from train\\Cars219.xml to train_labels\\Cars219.xml\n",
      "Moving file path from train\\Cars22.xml to train_labels\\Cars22.xml\n",
      "Moving file path from train\\Cars220.xml to train_labels\\Cars220.xml\n",
      "Moving file path from train\\Cars221.xml to train_labels\\Cars221.xml\n",
      "Moving file path from train\\Cars222.xml to train_labels\\Cars222.xml\n",
      "Moving file path from train\\Cars223.xml to train_labels\\Cars223.xml\n",
      "Moving file path from train\\Cars224.xml to train_labels\\Cars224.xml\n",
      "Moving file path from train\\Cars225.xml to train_labels\\Cars225.xml\n",
      "Moving file path from train\\Cars226.xml to train_labels\\Cars226.xml\n",
      "Moving file path from train\\Cars227.xml to train_labels\\Cars227.xml\n",
      "Moving file path from train\\Cars228.xml to train_labels\\Cars228.xml\n",
      "Moving file path from train\\Cars229.xml to train_labels\\Cars229.xml\n",
      "Moving file path from train\\Cars23.xml to train_labels\\Cars23.xml\n",
      "Moving file path from train\\Cars230.xml to train_labels\\Cars230.xml\n",
      "Moving file path from train\\Cars231.xml to train_labels\\Cars231.xml\n",
      "Moving file path from train\\Cars232.xml to train_labels\\Cars232.xml\n",
      "Moving file path from train\\Cars233.xml to train_labels\\Cars233.xml\n",
      "Moving file path from train\\Cars234.xml to train_labels\\Cars234.xml\n",
      "Moving file path from train\\Cars235.xml to train_labels\\Cars235.xml\n",
      "Moving file path from train\\Cars236.xml to train_labels\\Cars236.xml\n",
      "Moving file path from train\\Cars237.xml to train_labels\\Cars237.xml\n",
      "Moving file path from train\\Cars238.xml to train_labels\\Cars238.xml\n",
      "Moving file path from train\\Cars239.xml to train_labels\\Cars239.xml\n",
      "Moving file path from train\\Cars24.xml to train_labels\\Cars24.xml\n",
      "Moving file path from train\\Cars240.xml to train_labels\\Cars240.xml\n",
      "Moving file path from train\\Cars241.xml to train_labels\\Cars241.xml\n",
      "Moving file path from train\\Cars242.xml to train_labels\\Cars242.xml\n",
      "Moving file path from train\\Cars243.xml to train_labels\\Cars243.xml\n",
      "Moving file path from train\\Cars244.xml to train_labels\\Cars244.xml\n",
      "Moving file path from train\\Cars245.xml to train_labels\\Cars245.xml\n",
      "Moving file path from train\\Cars246.xml to train_labels\\Cars246.xml\n",
      "Moving file path from train\\Cars247.xml to train_labels\\Cars247.xml\n",
      "Moving file path from train\\Cars248.xml to train_labels\\Cars248.xml\n",
      "Moving file path from train\\Cars249.xml to train_labels\\Cars249.xml\n",
      "Moving file path from train\\Cars25.xml to train_labels\\Cars25.xml\n",
      "Moving file path from train\\Cars250.xml to train_labels\\Cars250.xml\n",
      "Moving file path from train\\Cars251.xml to train_labels\\Cars251.xml\n",
      "Moving file path from train\\Cars252.xml to train_labels\\Cars252.xml\n",
      "Moving file path from train\\Cars253.xml to train_labels\\Cars253.xml\n",
      "Moving file path from train\\Cars254.xml to train_labels\\Cars254.xml\n",
      "Moving file path from train\\Cars255.xml to train_labels\\Cars255.xml\n",
      "Moving file path from train\\Cars256.xml to train_labels\\Cars256.xml\n",
      "Moving file path from train\\Cars257.xml to train_labels\\Cars257.xml\n",
      "Moving file path from train\\Cars258.xml to train_labels\\Cars258.xml\n",
      "Moving file path from train\\Cars259.xml to train_labels\\Cars259.xml\n",
      "Moving file path from train\\Cars26.xml to train_labels\\Cars26.xml\n",
      "Moving file path from train\\Cars260.xml to train_labels\\Cars260.xml\n",
      "Moving file path from train\\Cars261.xml to train_labels\\Cars261.xml\n",
      "Moving file path from train\\Cars262.xml to train_labels\\Cars262.xml\n",
      "Moving file path from train\\Cars263.xml to train_labels\\Cars263.xml\n",
      "Moving file path from train\\Cars264.xml to train_labels\\Cars264.xml\n",
      "Moving file path from train\\Cars265.xml to train_labels\\Cars265.xml\n",
      "Moving file path from train\\Cars266.xml to train_labels\\Cars266.xml\n",
      "Moving file path from train\\Cars267.xml to train_labels\\Cars267.xml\n",
      "Moving file path from train\\Cars268.xml to train_labels\\Cars268.xml\n",
      "Moving file path from train\\Cars269.xml to train_labels\\Cars269.xml\n",
      "Moving file path from train\\Cars27.xml to train_labels\\Cars27.xml\n",
      "Moving file path from train\\Cars270.xml to train_labels\\Cars270.xml\n",
      "Moving file path from train\\Cars271.xml to train_labels\\Cars271.xml\n",
      "Moving file path from train\\Cars272.xml to train_labels\\Cars272.xml\n",
      "Moving file path from train\\Cars273.xml to train_labels\\Cars273.xml\n",
      "Moving file path from train\\Cars274.xml to train_labels\\Cars274.xml\n",
      "Moving file path from train\\Cars275.xml to train_labels\\Cars275.xml\n",
      "Moving file path from train\\Cars276.xml to train_labels\\Cars276.xml\n",
      "Moving file path from train\\Cars277.xml to train_labels\\Cars277.xml\n",
      "Moving file path from train\\Cars278.xml to train_labels\\Cars278.xml\n",
      "Moving file path from train\\Cars279.xml to train_labels\\Cars279.xml\n",
      "Moving file path from train\\Cars28.xml to train_labels\\Cars28.xml\n",
      "Moving file path from train\\Cars280.xml to train_labels\\Cars280.xml\n",
      "Moving file path from train\\Cars281.xml to train_labels\\Cars281.xml\n",
      "Moving file path from train\\Cars282.xml to train_labels\\Cars282.xml\n",
      "Moving file path from train\\Cars283.xml to train_labels\\Cars283.xml\n",
      "Moving file path from train\\Cars284.xml to train_labels\\Cars284.xml\n",
      "Moving file path from train\\Cars285.xml to train_labels\\Cars285.xml\n",
      "Moving file path from train\\Cars286.xml to train_labels\\Cars286.xml\n",
      "Moving file path from train\\Cars287.xml to train_labels\\Cars287.xml\n",
      "Moving file path from train\\Cars288.xml to train_labels\\Cars288.xml\n",
      "Moving file path from train\\Cars289.xml to train_labels\\Cars289.xml\n",
      "Moving file path from train\\Cars29.xml to train_labels\\Cars29.xml\n",
      "Moving file path from train\\Cars290.xml to train_labels\\Cars290.xml\n",
      "Moving file path from train\\Cars291.xml to train_labels\\Cars291.xml\n",
      "Moving file path from train\\Cars292.xml to train_labels\\Cars292.xml\n",
      "Moving file path from train\\Cars293.xml to train_labels\\Cars293.xml\n",
      "Moving file path from train\\Cars294.xml to train_labels\\Cars294.xml\n",
      "Moving file path from train\\Cars295.xml to train_labels\\Cars295.xml\n",
      "Moving file path from train\\Cars296.xml to train_labels\\Cars296.xml\n",
      "Moving file path from train\\Cars297.xml to train_labels\\Cars297.xml\n",
      "Moving file path from train\\Cars298.xml to train_labels\\Cars298.xml\n",
      "Moving file path from train\\Cars299.xml to train_labels\\Cars299.xml\n",
      "Moving file path from train\\Cars3.xml to train_labels\\Cars3.xml\n",
      "Moving file path from train\\Cars30.xml to train_labels\\Cars30.xml\n",
      "Moving file path from train\\Cars300.xml to train_labels\\Cars300.xml\n",
      "Moving file path from train\\Cars301.xml to train_labels\\Cars301.xml\n",
      "Moving file path from train\\Cars302.xml to train_labels\\Cars302.xml\n",
      "Moving file path from train\\Cars303.xml to train_labels\\Cars303.xml\n",
      "Moving file path from train\\Cars304.xml to train_labels\\Cars304.xml\n",
      "Moving file path from train\\Cars305.xml to train_labels\\Cars305.xml\n",
      "Moving file path from train\\Cars306.xml to train_labels\\Cars306.xml\n",
      "Moving file path from train\\Cars307.xml to train_labels\\Cars307.xml\n",
      "Moving file path from train\\Cars308.xml to train_labels\\Cars308.xml\n",
      "Moving file path from train\\Cars309.xml to train_labels\\Cars309.xml\n",
      "Moving file path from train\\Cars31.xml to train_labels\\Cars31.xml\n",
      "Moving file path from train\\Cars310.xml to train_labels\\Cars310.xml\n",
      "Moving file path from train\\Cars311.xml to train_labels\\Cars311.xml\n",
      "Moving file path from train\\Cars312.xml to train_labels\\Cars312.xml\n",
      "Moving file path from train\\Cars313.xml to train_labels\\Cars313.xml\n",
      "Moving file path from train\\Cars314.xml to train_labels\\Cars314.xml\n",
      "Moving file path from train\\Cars315.xml to train_labels\\Cars315.xml\n",
      "Moving file path from train\\Cars316.xml to train_labels\\Cars316.xml\n",
      "Moving file path from train\\Cars317.xml to train_labels\\Cars317.xml\n",
      "Moving file path from train\\Cars318.xml to train_labels\\Cars318.xml\n",
      "Moving file path from train\\Cars319.xml to train_labels\\Cars319.xml\n",
      "Moving file path from train\\Cars32.xml to train_labels\\Cars32.xml\n",
      "Moving file path from train\\Cars320.xml to train_labels\\Cars320.xml\n",
      "Moving file path from train\\Cars321.xml to train_labels\\Cars321.xml\n",
      "Moving file path from train\\Cars322.xml to train_labels\\Cars322.xml\n",
      "Moving file path from train\\Cars323.xml to train_labels\\Cars323.xml\n",
      "Moving file path from train\\Cars324.xml to train_labels\\Cars324.xml\n",
      "Moving file path from train\\Cars325.xml to train_labels\\Cars325.xml\n",
      "Moving file path from train\\Cars326.xml to train_labels\\Cars326.xml\n",
      "Moving file path from train\\Cars327.xml to train_labels\\Cars327.xml\n",
      "Moving file path from train\\Cars328.xml to train_labels\\Cars328.xml\n",
      "Moving file path from train\\Cars329.xml to train_labels\\Cars329.xml\n",
      "Moving file path from train\\Cars33.xml to train_labels\\Cars33.xml\n",
      "Moving file path from train\\Cars330.xml to train_labels\\Cars330.xml\n",
      "Moving file path from train\\Cars331.xml to train_labels\\Cars331.xml\n",
      "Moving file path from train\\Cars332.xml to train_labels\\Cars332.xml\n",
      "Moving file path from train\\Cars333.xml to train_labels\\Cars333.xml\n",
      "Moving file path from train\\Cars334.xml to train_labels\\Cars334.xml\n",
      "Moving file path from train\\Cars335.xml to train_labels\\Cars335.xml\n",
      "Moving file path from train\\Cars336.xml to train_labels\\Cars336.xml\n",
      "Moving file path from train\\Cars337.xml to train_labels\\Cars337.xml\n",
      "Moving file path from train\\Cars338.xml to train_labels\\Cars338.xml\n",
      "Moving file path from train\\Cars339.xml to train_labels\\Cars339.xml\n",
      "Moving file path from train\\Cars34.xml to train_labels\\Cars34.xml\n",
      "Moving file path from train\\Cars340.xml to train_labels\\Cars340.xml\n",
      "Moving file path from train\\Cars341.xml to train_labels\\Cars341.xml\n",
      "Moving file path from train\\Cars342.xml to train_labels\\Cars342.xml\n",
      "Moving file path from train\\Cars343.xml to train_labels\\Cars343.xml\n",
      "Moving file path from train\\Cars344.xml to train_labels\\Cars344.xml\n",
      "Moving file path from train\\Cars345.xml to train_labels\\Cars345.xml\n",
      "Moving file path from train\\Cars346.xml to train_labels\\Cars346.xml\n",
      "Moving file path from train\\Cars347.xml to train_labels\\Cars347.xml\n",
      "Moving file path from train\\Cars348.xml to train_labels\\Cars348.xml\n",
      "Moving file path from train\\Cars349.xml to train_labels\\Cars349.xml\n",
      "Moving file path from train\\Cars35.xml to train_labels\\Cars35.xml\n",
      "Moving file path from train\\Cars350.xml to train_labels\\Cars350.xml\n",
      "Moving file path from train\\Cars351.xml to train_labels\\Cars351.xml\n",
      "Moving file path from train\\Cars352.xml to train_labels\\Cars352.xml\n",
      "Moving file path from train\\Cars353.xml to train_labels\\Cars353.xml\n",
      "Moving file path from train\\Cars354.xml to train_labels\\Cars354.xml\n",
      "Moving file path from train\\Cars355.xml to train_labels\\Cars355.xml\n",
      "Moving file path from train\\Cars356.xml to train_labels\\Cars356.xml\n",
      "Moving file path from train\\Cars357.xml to train_labels\\Cars357.xml\n",
      "Moving file path from train\\Cars358.xml to train_labels\\Cars358.xml\n",
      "Moving file path from train\\Cars359.xml to train_labels\\Cars359.xml\n",
      "Moving file path from train\\Cars36.xml to train_labels\\Cars36.xml\n",
      "Moving file path from train\\Cars360.xml to train_labels\\Cars360.xml\n",
      "Moving file path from train\\Cars361.xml to train_labels\\Cars361.xml\n",
      "Moving file path from train\\Cars362.xml to train_labels\\Cars362.xml\n",
      "Moving file path from train\\Cars363.xml to train_labels\\Cars363.xml\n",
      "Moving file path from train\\Cars364.xml to train_labels\\Cars364.xml\n",
      "Moving file path from train\\Cars365.xml to train_labels\\Cars365.xml\n",
      "Moving file path from train\\Cars366.xml to train_labels\\Cars366.xml\n",
      "Moving file path from train\\Cars367.xml to train_labels\\Cars367.xml\n",
      "Moving file path from train\\Cars368.xml to train_labels\\Cars368.xml\n",
      "Moving file path from train\\Cars369.xml to train_labels\\Cars369.xml\n",
      "Moving file path from train\\Cars37.xml to train_labels\\Cars37.xml\n",
      "Moving file path from train\\Cars370.xml to train_labels\\Cars370.xml\n",
      "Moving file path from train\\Cars371.xml to train_labels\\Cars371.xml\n",
      "Moving file path from train\\Cars372.xml to train_labels\\Cars372.xml\n",
      "Moving file path from train\\Cars373.xml to train_labels\\Cars373.xml\n",
      "Moving file path from train\\Cars374.xml to train_labels\\Cars374.xml\n",
      "Moving file path from train\\Cars375.xml to train_labels\\Cars375.xml\n",
      "Moving file path from train\\Cars376.xml to train_labels\\Cars376.xml\n",
      "Moving file path from train\\Cars377.xml to train_labels\\Cars377.xml\n",
      "Moving file path from train\\Cars378.xml to train_labels\\Cars378.xml\n",
      "Moving file path from train\\Cars379.xml to train_labels\\Cars379.xml\n",
      "Moving file path from train\\Cars38.xml to train_labels\\Cars38.xml\n",
      "Moving file path from train\\Cars380.xml to train_labels\\Cars380.xml\n",
      "Moving file path from train\\Cars381.xml to train_labels\\Cars381.xml\n",
      "Moving file path from train\\Cars382.xml to train_labels\\Cars382.xml\n",
      "Moving file path from train\\Cars383.xml to train_labels\\Cars383.xml\n",
      "Moving file path from train\\Cars384.xml to train_labels\\Cars384.xml\n",
      "Moving file path from train\\Cars385.xml to train_labels\\Cars385.xml\n"
     ]
    },
    {
     "name": "stdout",
     "output_type": "stream",
     "text": [
      "Moving file path from train\\Cars386.xml to train_labels\\Cars386.xml\n",
      "Moving file path from train\\Cars387.xml to train_labels\\Cars387.xml\n",
      "Moving file path from train\\Cars388.xml to train_labels\\Cars388.xml\n",
      "Moving file path from train\\Cars389.xml to train_labels\\Cars389.xml\n",
      "Moving file path from train\\Cars39.xml to train_labels\\Cars39.xml\n",
      "Moving file path from train\\Cars390.xml to train_labels\\Cars390.xml\n",
      "Moving file path from train\\Cars391.xml to train_labels\\Cars391.xml\n",
      "Moving file path from train\\Cars392.xml to train_labels\\Cars392.xml\n",
      "Moving file path from train\\Cars393.xml to train_labels\\Cars393.xml\n",
      "Moving file path from train\\Cars394.xml to train_labels\\Cars394.xml\n",
      "Moving file path from train\\Cars395.xml to train_labels\\Cars395.xml\n",
      "Moving file path from train\\Cars396.xml to train_labels\\Cars396.xml\n",
      "Moving file path from train\\Cars397.xml to train_labels\\Cars397.xml\n",
      "Moving file path from train\\Cars398.xml to train_labels\\Cars398.xml\n",
      "Moving file path from train\\Cars399.xml to train_labels\\Cars399.xml\n",
      "Moving file path from train\\Cars4.xml to train_labels\\Cars4.xml\n",
      "Moving file path from train\\Cars40.xml to train_labels\\Cars40.xml\n",
      "Moving file path from train\\Cars400.xml to train_labels\\Cars400.xml\n",
      "Moving file path from train\\Cars401.xml to train_labels\\Cars401.xml\n",
      "Moving file path from train\\Cars402.xml to train_labels\\Cars402.xml\n",
      "Moving file path from train\\Cars403.xml to train_labels\\Cars403.xml\n",
      "Moving file path from train\\Cars404.xml to train_labels\\Cars404.xml\n",
      "Moving file path from train\\Cars405.xml to train_labels\\Cars405.xml\n",
      "Moving file path from train\\Cars406.xml to train_labels\\Cars406.xml\n",
      "Moving file path from train\\Cars407.xml to train_labels\\Cars407.xml\n",
      "Moving file path from train\\Cars408.xml to train_labels\\Cars408.xml\n",
      "Moving file path from train\\Cars409.xml to train_labels\\Cars409.xml\n",
      "Moving file path from train\\Cars41.xml to train_labels\\Cars41.xml\n",
      "Moving file path from train\\Cars410.xml to train_labels\\Cars410.xml\n",
      "Moving file path from train\\Cars42.xml to train_labels\\Cars42.xml\n",
      "Moving file path from train\\Cars43.xml to train_labels\\Cars43.xml\n",
      "Moving file path from train\\Cars44.xml to train_labels\\Cars44.xml\n",
      "Moving file path from train\\Cars45.xml to train_labels\\Cars45.xml\n",
      "Moving file path from train\\Cars46.xml to train_labels\\Cars46.xml\n",
      "Moving file path from train\\Cars47.xml to train_labels\\Cars47.xml\n",
      "Moving file path from train\\Cars48.xml to train_labels\\Cars48.xml\n",
      "Moving file path from train\\Cars49.xml to train_labels\\Cars49.xml\n",
      "Moving file path from train\\Cars5.xml to train_labels\\Cars5.xml\n",
      "Moving file path from train\\Cars50.xml to train_labels\\Cars50.xml\n",
      "Moving file path from train\\Cars51.xml to train_labels\\Cars51.xml\n",
      "Moving file path from train\\Cars52.xml to train_labels\\Cars52.xml\n",
      "Moving file path from train\\Cars53.xml to train_labels\\Cars53.xml\n",
      "Moving file path from train\\Cars54.xml to train_labels\\Cars54.xml\n",
      "Moving file path from train\\Cars55.xml to train_labels\\Cars55.xml\n",
      "Moving file path from train\\Cars56.xml to train_labels\\Cars56.xml\n",
      "Moving file path from train\\Cars57.xml to train_labels\\Cars57.xml\n",
      "Moving file path from train\\Cars58.xml to train_labels\\Cars58.xml\n",
      "Moving file path from train\\Cars59.xml to train_labels\\Cars59.xml\n",
      "Moving file path from train\\Cars6.xml to train_labels\\Cars6.xml\n",
      "Moving file path from train\\Cars60.xml to train_labels\\Cars60.xml\n",
      "Moving file path from train\\Cars61.xml to train_labels\\Cars61.xml\n",
      "Moving file path from train\\Cars62.xml to train_labels\\Cars62.xml\n",
      "Moving file path from train\\Cars63.xml to train_labels\\Cars63.xml\n",
      "Moving file path from train\\Cars64.xml to train_labels\\Cars64.xml\n",
      "Moving file path from train\\Cars65.xml to train_labels\\Cars65.xml\n",
      "Moving file path from train\\Cars66.xml to train_labels\\Cars66.xml\n",
      "Moving file path from train\\Cars67.xml to train_labels\\Cars67.xml\n",
      "Moving file path from train\\Cars68.xml to train_labels\\Cars68.xml\n",
      "Moving file path from train\\Cars69.xml to train_labels\\Cars69.xml\n",
      "Moving file path from train\\Cars7.xml to train_labels\\Cars7.xml\n",
      "Moving file path from train\\Cars70.xml to train_labels\\Cars70.xml\n",
      "Moving file path from train\\Cars71.xml to train_labels\\Cars71.xml\n",
      "Moving file path from train\\Cars72.xml to train_labels\\Cars72.xml\n",
      "Moving file path from train\\Cars73.xml to train_labels\\Cars73.xml\n",
      "Moving file path from train\\Cars74.xml to train_labels\\Cars74.xml\n",
      "Moving file path from train\\Cars75.xml to train_labels\\Cars75.xml\n",
      "Moving file path from train\\Cars76.xml to train_labels\\Cars76.xml\n",
      "Moving file path from train\\Cars77.xml to train_labels\\Cars77.xml\n",
      "Moving file path from train\\Cars78.xml to train_labels\\Cars78.xml\n",
      "Moving file path from train\\Cars79.xml to train_labels\\Cars79.xml\n",
      "Moving file path from train\\Cars8.xml to train_labels\\Cars8.xml\n",
      "Moving file path from train\\Cars80.xml to train_labels\\Cars80.xml\n",
      "Moving file path from train\\Cars81.xml to train_labels\\Cars81.xml\n",
      "Moving file path from train\\Cars82.xml to train_labels\\Cars82.xml\n",
      "Moving file path from train\\Cars83.xml to train_labels\\Cars83.xml\n",
      "Moving file path from train\\Cars84.xml to train_labels\\Cars84.xml\n",
      "Moving file path from train\\Cars85.xml to train_labels\\Cars85.xml\n",
      "Moving file path from train\\Cars86.xml to train_labels\\Cars86.xml\n",
      "Moving file path from train\\Cars87.xml to train_labels\\Cars87.xml\n",
      "Moving file path from train\\Cars88.xml to train_labels\\Cars88.xml\n",
      "Moving file path from train\\Cars89.xml to train_labels\\Cars89.xml\n",
      "Moving file path from train\\Cars9.xml to train_labels\\Cars9.xml\n",
      "Moving file path from train\\Cars90.xml to train_labels\\Cars90.xml\n",
      "Moving file path from train\\Cars91.xml to train_labels\\Cars91.xml\n",
      "Moving file path from train\\Cars92.xml to train_labels\\Cars92.xml\n",
      "Moving file path from train\\Cars93.xml to train_labels\\Cars93.xml\n",
      "Moving file path from train\\Cars94.xml to train_labels\\Cars94.xml\n",
      "Moving file path from train\\Cars95.xml to train_labels\\Cars95.xml\n",
      "Moving file path from train\\Cars96.xml to train_labels\\Cars96.xml\n",
      "Moving file path from train\\Cars97.xml to train_labels\\Cars97.xml\n",
      "Moving file path from train\\Cars98.xml to train_labels\\Cars98.xml\n",
      "Moving file path from train\\Cars99.xml to train_labels\\Cars99.xml\n"
     ]
    }
   ],
   "source": [
    "for file in selected_files:\n",
    "    current_path = os.path.join(\"train\", file)\n",
    "    new_path = os.path.join(\"train_labels\", file)\n",
    "        \n",
    "    print(f\"Moving file path from {current_path} to {new_path}\")\n",
    "    \n",
    "    os.replace(current_path, new_path)"
   ]
  },
  {
   "cell_type": "markdown",
   "id": "c32f6dbb",
   "metadata": {},
   "source": [
    "# 2. Data Preprocessing "
   ]
  },
  {
   "cell_type": "markdown",
   "id": "bbf79df2",
   "metadata": {},
   "source": [
    "### 2.1 Getting an Image and Drawing Bounding Box"
   ]
  },
  {
   "cell_type": "code",
   "execution_count": 9,
   "id": "357ac4cf",
   "metadata": {},
   "outputs": [],
   "source": [
    "random_image = os.path.join(DATA_DIR, folders[0], \"images\", \"Cars0.png\")\n",
    "image = cv2.imread(random_image)"
   ]
  },
  {
   "cell_type": "code",
   "execution_count": 10,
   "id": "8ff69dec",
   "metadata": {},
   "outputs": [
    {
     "data": {
      "text/plain": [
       "(531, 600, 3)"
      ]
     },
     "execution_count": 10,
     "metadata": {},
     "output_type": "execute_result"
    }
   ],
   "source": [
    "image.shape"
   ]
  },
  {
   "cell_type": "code",
   "execution_count": 11,
   "id": "0fa57d9a",
   "metadata": {},
   "outputs": [
    {
     "data": {
      "text/plain": [
       "[226, 125, 419, 173]"
      ]
     },
     "execution_count": 11,
     "metadata": {},
     "output_type": "execute_result"
    }
   ],
   "source": [
    "random_label = os.path.join(DATA_DIR, folders[0], \"labels\", \"Cars0.xml\")\n",
    "\n",
    "def parseXML(xmlfile): \n",
    "  \n",
    "    # create element tree object \n",
    "    tree = ET.parse(xmlfile) \n",
    "  \n",
    "    # get root element \n",
    "    root = tree.getroot() \n",
    "    \n",
    "    coordinates = []\n",
    "    count = 0\n",
    "    \n",
    "    for obj in root.findall(\"./object\"):\n",
    "        count += 1\n",
    "        \n",
    "        # Breaks if Image has 2 bounding boxes\n",
    "        if  count >1:  break\n",
    "    \n",
    "        # Getting Bounding Boxes and storing in array\n",
    "        for item in root.findall('./object/bndbox'): \n",
    "\n",
    "            # Iterating through bounding boxes\n",
    "            for coord in item:\n",
    "                # print(coord.text)\n",
    "                coordinates.append(int(coord.text))\n",
    "        \n",
    "    return coordinates \n",
    "\n",
    "coordinates = parseXML(random_label)\n",
    "\n",
    "coordinates"
   ]
  },
  {
   "cell_type": "code",
   "execution_count": 12,
   "id": "9d8801cd",
   "metadata": {},
   "outputs": [
    {
     "data": {
      "text/plain": [
       "<matplotlib.image.AxesImage at 0x1935960cfa0>"
      ]
     },
     "execution_count": 12,
     "metadata": {},
     "output_type": "execute_result"
    },
    {
     "data": {
      "image/png": "[encoded data removed]",
      "text/plain": [
       "<Figure size 640x480 with 1 Axes>"
      ]
     },
     "metadata": {},
     "output_type": "display_data"
    }
   ],
   "source": [
    "# Drawing on Image\n",
    "cv2.rectangle(image, coordinates[:2], coordinates[2:], (0, 255, 0), 2)\n",
    "\n",
    "plt.imshow(image)"
   ]
  },
  {
   "cell_type": "markdown",
   "id": "9fc60a86",
   "metadata": {},
   "source": [
    "### 2.2 Extracting Highlighted Region/Numberplate"
   ]
  },
  {
   "cell_type": "code",
   "execution_count": 13,
   "id": "c6211567",
   "metadata": {},
   "outputs": [
    {
     "data": {
      "image/png": "[encoded data removed]",
      "text/plain": [
       "<Figure size 640x480 with 1 Axes>"
      ]
     },
     "metadata": {},
     "output_type": "display_data"
    }
   ],
   "source": [
    "# Extract the bounded region\n",
    "bounded_region = image[coordinates[1]:coordinates[3], coordinates[0]:coordinates[2]]\n",
    "\n",
    "licence_plate = plt.imshow(bounded_region)"
   ]
  },
  {
   "cell_type": "markdown",
   "id": "b21ea517",
   "metadata": {},
   "source": [
    "###  2.3 Apply Blur for EasyOCR"
   ]
  },
  {
   "cell_type": "code",
   "execution_count": 14,
   "id": "a0cff3ee",
   "metadata": {},
   "outputs": [
    {
     "data": {
      "text/plain": [
       "<matplotlib.image.AxesImage at 0x19359729100>"
      ]
     },
     "execution_count": 14,
     "metadata": {},
     "output_type": "execute_result"
    },
    {
     "data": {
      "image/png": "[encoded data removed]",
      "text/plain": [
       "<Figure size 640x480 with 1 Axes>"
      ]
     },
     "metadata": {},
     "output_type": "display_data"
    }
   ],
   "source": [
    "plate_grayscale = cv2.cvtColor(bounded_region, cv2.COLOR_BGR2GRAY)\n",
    "_ , plate_threshold = cv2.threshold(plate_grayscale, 64, 256, cv2.THRESH_BINARY_INV)\n",
    "\n",
    "plt.imshow(plate_threshold)"
   ]
  },
  {
   "cell_type": "markdown",
   "id": "5dd1cf54",
   "metadata": {},
   "source": [
    "### 2.4 Applying EasyOCR"
   ]
  },
  {
   "cell_type": "code",
   "execution_count": 15,
   "id": "0776e910",
   "metadata": {},
   "outputs": [
    {
     "name": "stderr",
     "output_type": "stream",
     "text": [
      "Using CPU. Note: This module is much faster with a GPU.\n"
     ]
    }
   ],
   "source": [
    "reader = easyocr.Reader([\"en\"], gpu=False)"
   ]
  },
  {
   "cell_type": "code",
   "execution_count": 16,
   "id": "44386599",
   "metadata": {},
   "outputs": [
    {
     "name": "stdout",
     "output_type": "stream",
     "text": [
      "KLO1CA2555\n"
     ]
    }
   ],
   "source": [
    "# Use the easyocr reader to detect text from the image\n",
    "result = reader.readtext(plate_threshold)\n",
    "\n",
    "# Print the detected text\n",
    "for detection in result:\n",
    "    print(detection[1])"
   ]
  },
  {
   "cell_type": "markdown",
   "id": "7b7122bb",
   "metadata": {},
   "source": [
    "### 2.5 Padding Images \n",
    "\n",
    "Since our images are not of the same resolution.\n",
    "\n",
    "1. Get maximum size image \n",
    "2. Pad image top and right to prevent bounding box from displacing. "
   ]
  },
  {
   "cell_type": "code",
   "execution_count": 17,
   "id": "ad334ac3",
   "metadata": {},
   "outputs": [
    {
     "data": {
      "text/plain": [
       "(531, 600, 3)"
      ]
     },
     "execution_count": 17,
     "metadata": {},
     "output_type": "execute_result"
    }
   ],
   "source": [
    "max_X = 0\n",
    "max_Y = 0\n",
    "\n",
    "# Getting Max Image Size\n",
    "for image in os.listdir(os.path.join(DATA_DIR, folders[0], \"images\")):\n",
    "    img = cv2.imread(os.path.join(DATA_DIR, folders[0], \"images\", image)).shape\n",
    "    if max_X < img[0]:\n",
    "        max_X = img[0]\n",
    "        \n",
    "    if img[1] > max_Y:\n",
    "        max_Y = img[1]\n",
    "        \n",
    "max_image_size = (max_X, max_Y, 3)\n",
    "max_image_size"
   ]
  },
  {
   "cell_type": "markdown",
   "id": "911188e8",
   "metadata": {},
   "source": [
    "#### 2.5.2 Applying Padding to Image \n",
    "\n",
    "The `cv2.copyMakeBorder` function in OpenCV is utilized to add borders to an image, commonly employed for tasks such as image padding. Here's an breakdown of its parameters:\n",
    "\n",
    "- **`src`**: This is the source image to which borders will be added.\n",
    "\n",
    "- **`top`**: The number of pixels to add as a border at the top of the image.\n",
    "\n",
    "- **`bottom`**: The number of pixels to add as a border at the bottom of the image.\n",
    "\n",
    "- **`left`**: The number of pixels to add as a border on the left side of the image.\n",
    "\n",
    "- **`right`**: The number of pixels to add as a border on the right side of the image.\n",
    "\n",
    "- **`borderType`**: This parameter specifies the type of border to add. In this case, `cv2.BORDER_CONSTANT` indicates that a constant border should be added. Other possible values include `cv2.BORDER_REPLICATE`, `cv2.BORDER_REFLECT`, `cv2.BORDER_WRAP`, etc.\n",
    "\n",
    "- **`value`**: This parameter specifies the color of the border. If `borderType` is set to `cv2.BORDER_CONSTANT`, then `value` is the color of the border, given as a list or tuple of RGB values. In this example, `[0, 0, 0]` represents black.\n",
    "\n"
   ]
  },
  {
   "cell_type": "code",
   "execution_count": 18,
   "id": "e649ab54",
   "metadata": {},
   "outputs": [],
   "source": [
    "def pad_image(image, target_size=(531, 600, 3)):\n",
    "    # Calculate the amount of padding needed for each dimension\n",
    "    pad_height = np.maximum(0, int(target_size[0]) - int(image.shape[0]))\n",
    "    pad_width = np.maximum(0, int(target_size[1]) - int(image.shape[1]))\n",
    "\n",
    "    # print(pad_height, pad_width)\n",
    "    # Pad the image only from the bottom and right sides\n",
    "    padded_image = cv2.copyMakeBorder(image, 0, pad_height, 0, pad_width, cv2.BORDER_CONSTANT, value=[0, 0, 0])\n",
    "\n",
    "    return padded_image"
   ]
  },
  {
   "cell_type": "code",
   "execution_count": 19,
   "id": "14974be2",
   "metadata": {},
   "outputs": [
    {
     "data": {
      "text/plain": [
       "(531, 600, 3)"
      ]
     },
     "execution_count": 19,
     "metadata": {},
     "output_type": "execute_result"
    }
   ],
   "source": [
    "# Example usage:\n",
    "image_path = os.path.join(DATA_DIR, folders[0], \"images\", \"Cars0.png\")  # Replace with the actual path to your image\n",
    "original_image = cv2.imread(image_path)\n",
    "original_image.shape"
   ]
  },
  {
   "cell_type": "markdown",
   "id": "ce6e86e9",
   "metadata": {},
   "source": [
    "### 2.6 Plot Results"
   ]
  },
  {
   "cell_type": "code",
   "execution_count": 20,
   "id": "96e1ad1a",
   "metadata": {},
   "outputs": [
    {
     "data": {
      "text/plain": [
       "array([[[100,  75,  25],\n",
       "        [159, 130,  73],\n",
       "        [158, 127,  52],\n",
       "        ...,\n",
       "        [  0,   0,   0],\n",
       "        [  0,   0,   0],\n",
       "        [  0,   0,   0]],\n",
       "\n",
       "       [[101,  79,  31],\n",
       "        [146, 121,  65],\n",
       "        [151, 119,  46],\n",
       "        ...,\n",
       "        [  0,   0,   0],\n",
       "        [  0,   0,   0],\n",
       "        [  0,   0,   0]],\n",
       "\n",
       "       [[104,  87,  44],\n",
       "        [139, 117,  65],\n",
       "        [146, 116,  43],\n",
       "        ...,\n",
       "        [  0,   0,   0],\n",
       "        [  0,   0,   0],\n",
       "        [  0,   0,   0]],\n",
       "\n",
       "       ...,\n",
       "\n",
       "       [[  0,   0,   0],\n",
       "        [  0,   0,   0],\n",
       "        [  0,   0,   0],\n",
       "        ...,\n",
       "        [  0,   0,   0],\n",
       "        [  0,   0,   0],\n",
       "        [  0,   0,   0]],\n",
       "\n",
       "       [[  0,   0,   0],\n",
       "        [  0,   0,   0],\n",
       "        [  0,   0,   0],\n",
       "        ...,\n",
       "        [  0,   0,   0],\n",
       "        [  0,   0,   0],\n",
       "        [  0,   0,   0]],\n",
       "\n",
       "       [[  0,   0,   0],\n",
       "        [  0,   0,   0],\n",
       "        [  0,   0,   0],\n",
       "        ...,\n",
       "        [  0,   0,   0],\n",
       "        [  0,   0,   0],\n",
       "        [  0,   0,   0]]], dtype=uint8)"
      ]
     },
     "execution_count": 20,
     "metadata": {},
     "output_type": "execute_result"
    }
   ],
   "source": [
    "# Pad the image from the bottom and right sides only\n",
    "padded_image = pad_image(original_image, max_image_size)\n",
    "\n",
    "padded_image"
   ]
  },
  {
   "cell_type": "code",
   "execution_count": 21,
   "id": "107d2554",
   "metadata": {},
   "outputs": [
    {
     "data": {
      "image/png": "[encoded data removed]",
      "text/plain": [
       "<Figure size 1000x500 with 2 Axes>"
      ]
     },
     "metadata": {},
     "output_type": "display_data"
    }
   ],
   "source": [
    "# Pad the image from the bottom and right sides only\n",
    "padded_image = pad_image(original_image, max_image_size)\n",
    "\n",
    "# Display the original and padded images\n",
    "# Convert BGR to RGB (matplotlib uses RGB)\n",
    "original_image_rgb = cv2.cvtColor(original_image, cv2.COLOR_BGR2RGB)\n",
    "padded_image_rgb = cv2.cvtColor(padded_image, cv2.COLOR_BGR2RGB)\n",
    "\n",
    "cv2.rectangle(original_image_rgb, coordinates[:2], coordinates[2:], (0, 255, 0), 2)\n",
    "cv2.rectangle(padded_image_rgb, coordinates[:2], coordinates[2:], (0, 255, 0), 2)\n",
    "\n",
    "# Create subplots\n",
    "fig, axes = plt.subplots(1, 2, figsize=(10, 5))\n",
    "\n",
    "# Display the original image\n",
    "axes[0].imshow(original_image_rgb)\n",
    "axes[0].set_title('Original Image')\n",
    "axes[0].axis('off')\n",
    "\n",
    "# Display the padded image\n",
    "axes[1].imshow(padded_image_rgb)\n",
    "axes[1].set_title('Padded Image')\n",
    "axes[1].axis('off')\n",
    "\n",
    "# Show the subplots\n",
    "plt.show()"
   ]
  },
  {
   "cell_type": "markdown",
   "id": "2a6f2523",
   "metadata": {},
   "source": [
    "# 3. Tensorflow Pipeline"
   ]
  },
  {
   "cell_type": "markdown",
   "id": "c90cbeb1",
   "metadata": {},
   "source": [
    "### 3.1 Filtering Data\n",
    "\n",
    "Removing images with more than one bounding box annotation."
   ]
  },
  {
   "cell_type": "code",
   "execution_count": 1,
   "id": "e4db8cc3",
   "metadata": {},
   "outputs": [],
   "source": [
    "def check_and_remove_data(image_name, folder_name) -> bool:\n",
    "    label_file = os.path.join(\"data\", folder_name, \"labels\", f\"{image_name}.xml\")\n",
    "    \n",
    "    # create element tree object \n",
    "    tree = ET.parse(label_file) \n",
    "\n",
    "    # get root element \n",
    "    root = tree.getroot() \n",
    "            \n",
    "    if len(root.findall(\"./object\")) > 1:       \n",
    "        image_path = os.path.join(\"data\", folder_name, \"images\", f\"{image_name}.png\")\n",
    "        label_path = os.path.join(\"data\", folder_name, \"labels\", f\"{image_name}.xml\")\n",
    "        \n",
    "        # Check if the file exists before attempting to delete\n",
    "        if os.path.exists(image_path) and os.path.exists(label_path):\n",
    "            os.remove(image_path)\n",
    "            os.remove(label_path)\n",
    "            print(f\"Removing Image {image_name}.png and label {image_name}.xml\")\n",
    "        else:\n",
    "            print(f\"The file '{file_path}' does not exist.\")\n",
    "            \n",
    "        # Return true for each image and label removed  \n",
    "        return True\n",
    "    \n",
    "    # Base Condition\n",
    "    return False\n",
    "    "
   ]
  },
  {
   "cell_type": "code",
   "execution_count": 4,
   "id": "358b492b",
   "metadata": {},
   "outputs": [
    {
     "name": "stdout",
     "output_type": "stream",
     "text": [
      "Removing Image Cars413.png and label Cars413.xml\n",
      "Images and labels removed 1\n"
     ]
    }
   ],
   "source": [
    "all_images = os.listdir(os.path.join(\"data\", \"test\", \"images\"))\n",
    "\n",
    "count = 0\n",
    "try:\n",
    "    for images in all_images:\n",
    "        file_name = images.split(\".\")[0]\n",
    "        res = check_and_remove_data(file_name, \"test\")\n",
    "\n",
    "        if res: \n",
    "            count += 1\n",
    "except: \n",
    "    print(\"No Images to remove\")\n",
    "        \n",
    "print(f\"Images and labels removed {count}\")"
   ]
  },
  {
   "cell_type": "markdown",
   "id": "f170bc78",
   "metadata": {},
   "source": [
    "### 3.2 Gathering Labels\n",
    "\n",
    "Parsing XML file and returning an array containing the bounding box coordinates"
   ]
  },
  {
   "cell_type": "code",
   "execution_count": 15,
   "id": "e0764902",
   "metadata": {},
   "outputs": [],
   "source": [
    "# Extract bounding box from the label \n",
    "def get_labels(path):\n",
    "    coordinates = []\n",
    "    \n",
    "    for label_file in os.listdir(path):\n",
    "        bounding_box = parseXML(os.path.join(path , label_file))\n",
    "        # print(f\"File Name: {label_file},  {bounding_box}\")\n",
    "        \n",
    "        coordinates.append(bounding_box)\n",
    "    \n",
    "    return coordinates"
   ]
  },
  {
   "cell_type": "code",
   "execution_count": 23,
   "id": "fd6fa8a0",
   "metadata": {},
   "outputs": [
    {
     "data": {
      "text/plain": [
       "array([[226, 125, 419, 173],\n",
       "       [134, 128, 262, 160],\n",
       "       [140,   5, 303, 148],\n",
       "       ...,\n",
       "       [ 98, 102, 297, 191],\n",
       "       [ 85, 196, 247, 259],\n",
       "       [ 70, 198, 262, 271]])"
      ]
     },
     "execution_count": 23,
     "metadata": {},
     "output_type": "execute_result"
    }
   ],
   "source": [
    "# Path of all the labels \n",
    "labels_path = os.path.join(DATA_DIR, folders[0], \"labels\")\n",
    "\n",
    "# Getting all bounding boxes\n",
    "target_labels = get_labels(labels_path)\n",
    "\n",
    "# Converting to numpy\n",
    "target_labels = np.array(target_labels)\n",
    "\n",
    "target_labels"
   ]
  },
  {
   "cell_type": "code",
   "execution_count": 24,
   "id": "b59a8321",
   "metadata": {},
   "outputs": [
    {
     "data": {
      "text/plain": [
       "(388, 4)"
      ]
     },
     "execution_count": 24,
     "metadata": {},
     "output_type": "execute_result"
    }
   ],
   "source": [
    "target_labels.shape"
   ]
  },
  {
   "cell_type": "markdown",
   "id": "afd082c4",
   "metadata": {},
   "source": [
    "### 3.3 Gathering Images "
   ]
  },
  {
   "cell_type": "code",
   "execution_count": 158,
   "id": "4ccf72e2",
   "metadata": {},
   "outputs": [],
   "source": [
    "# Reads directly in RGB\n",
    "def load_image(path):\n",
    "    byte_image = tf.io.read_file(path)\n",
    "    image = tf.io.decode_png(byte_image)\n",
    "    # image  = pad_image(image, max_image_size)\n",
    "    return image"
   ]
  },
  {
   "cell_type": "markdown",
   "id": "90acc910",
   "metadata": {},
   "source": [
    "### 3.4 Testing Tensorflow Datasets API"
   ]
  },
  {
   "cell_type": "code",
   "execution_count": 64,
   "id": "a1110d63",
   "metadata": {},
   "outputs": [
    {
     "data": {
      "text/plain": [
       "b'data\\\\train\\\\images\\\\Cars237.png'"
      ]
     },
     "execution_count": 64,
     "metadata": {},
     "output_type": "execute_result"
    }
   ],
   "source": [
    "all_images = tf.data.Dataset.list_files(os.path.join(DATA_DIR, folders[0], \"images\", \"*.png\"))\n",
    "\n",
    "all_images.as_numpy_iterator().next()"
   ]
  },
  {
   "cell_type": "code",
   "execution_count": 65,
   "id": "22f5434c",
   "metadata": {},
   "outputs": [],
   "source": [
    "all_images = all_images.map(load_image)"
   ]
  },
  {
   "cell_type": "code",
   "execution_count": 76,
   "id": "eee795b6",
   "metadata": {},
   "outputs": [
    {
     "data": {
      "text/plain": [
       "array([[[ 52,  57,  40, 223],\n",
       "        [ 53,  58,  41, 223],\n",
       "        [ 54,  60,  42, 223],\n",
       "        ...,\n",
       "        [160, 161, 160, 223],\n",
       "        [160, 161, 159, 223],\n",
       "        [157, 158, 156, 223]],\n",
       "\n",
       "       [[ 41,  46,  29, 255],\n",
       "        [ 44,  49,  32, 255],\n",
       "        [ 45,  50,  33, 255],\n",
       "        ...,\n",
       "        [160, 162, 160, 255],\n",
       "        [160, 162, 160, 255],\n",
       "        [157, 158, 157, 255]],\n",
       "\n",
       "       [[ 40,  45,  28, 255],\n",
       "        [ 45,  51,  33, 255],\n",
       "        [ 51,  56,  39, 255],\n",
       "        ...,\n",
       "        [159, 161, 159, 255],\n",
       "        [159, 161, 159, 255],\n",
       "        [157, 158, 156, 255]],\n",
       "\n",
       "       ...,\n",
       "\n",
       "       [[ 92,  91,  92, 255],\n",
       "        [ 93,  91,  93, 255],\n",
       "        [ 92,  90,  92, 255],\n",
       "        ...,\n",
       "        [ 89,  87,  89, 255],\n",
       "        [ 89,  87,  88, 255],\n",
       "        [ 89,  87,  89, 255]],\n",
       "\n",
       "       [[ 92,  90,  92, 255],\n",
       "        [ 92,  90,  92, 255],\n",
       "        [ 92,  90,  92, 255],\n",
       "        ...,\n",
       "        [ 89,  88,  89, 255],\n",
       "        [ 89,  87,  88, 255],\n",
       "        [ 89,  88,  89, 255]],\n",
       "\n",
       "       [[ 92,  90,  92, 255],\n",
       "        [ 92,  90,  92, 255],\n",
       "        [ 92,  90,  92, 255],\n",
       "        ...,\n",
       "        [ 89,  88,  89, 255],\n",
       "        [ 89,  87,  88, 255],\n",
       "        [ 89,  88,  89, 255]]], dtype=uint8)"
      ]
     },
     "execution_count": 76,
     "metadata": {},
     "output_type": "execute_result"
    }
   ],
   "source": [
    "all_images.as_numpy_iterator().next()"
   ]
  },
  {
   "cell_type": "markdown",
   "id": "8b2ffcac",
   "metadata": {},
   "source": [
    "### 3.5 Adding Images to Pipeline"
   ]
  },
  {
   "cell_type": "code",
   "execution_count": 159,
   "id": "dca5df76",
   "metadata": {},
   "outputs": [
    {
     "data": {
      "text/plain": [
       "{'train_images': <_MapDataset element_spec=TensorSpec(shape=(None, None, None), dtype=tf.uint8, name=None)>,\n",
       " 'test_images': <_MapDataset element_spec=TensorSpec(shape=(None, None, None), dtype=tf.uint8, name=None)>}"
      ]
     },
     "execution_count": 159,
     "metadata": {},
     "output_type": "execute_result"
    }
   ],
   "source": [
    "images = {}\n",
    "\n",
    "# images[f\"{folders[0]}_images\"] = tf.data.Dataset.list_files(os.path.join(DATA_DIR, folders[0], \"images\", \"*.png\"), shuffle=False)\n",
    "# images[f\"{folders[0]}_images\"] =  images[f\"{folders[0]}_images\"].map(load_image)\n",
    "\n",
    "# images[f\"{folders[1]}_images\"] = tf.data.Dataset.list_files(os.path.join(DATA_DIR, folders[1], \"images\", \"*.png\"), shuffle=False)\n",
    "# images[f\"{folders[1]}_images\"] =  images[f\"{folders[1]}_images\"].map(load_image)\n",
    "for folder in folders:\n",
    "    images_path  = os.path.join(DATA_DIR, \"train_padded\", \"images\", \"*.png\")\n",
    "    \n",
    "    images[f\"{folder}_images\"] = tf.data.Dataset.list_files(images_path, shuffle=False)\n",
    "    \n",
    "    images[f\"{folder}_images\"] =  images[f\"{folder}_images\"].map(load_image)\n",
    "\n",
    "    #     # Apply the pad_image using tf.py_function\n",
    "    # images[f\"{folder}_images\"] = images[f\"{folder}_images\"].map(\n",
    "    #     lambda x: tf.py_function(pad_image, [x, max_image_size], Tout=tf.uint8)\n",
    "    # )\n",
    "    \n",
    "    # images[f\"{folder}_images\"] =  images[f\"{folder}_images\"].map(lambda x: x /255)\n",
    "    \n",
    "images"
   ]
  },
  {
   "cell_type": "code",
   "execution_count": 162,
   "id": "3c3bf83f",
   "metadata": {},
   "outputs": [
    {
     "data": {
      "text/plain": [
       "array([[[ 25,  75, 100],\n",
       "        [ 73, 130, 159],\n",
       "        [ 52, 127, 158],\n",
       "        ...,\n",
       "        [  0,   0,   0],\n",
       "        [  0,   0,   0],\n",
       "        [  0,   0,   0]],\n",
       "\n",
       "       [[ 31,  79, 101],\n",
       "        [ 65, 121, 146],\n",
       "        [ 46, 119, 151],\n",
       "        ...,\n",
       "        [  0,   0,   0],\n",
       "        [  0,   0,   0],\n",
       "        [  0,   0,   0]],\n",
       "\n",
       "       [[ 44,  87, 104],\n",
       "        [ 65, 117, 139],\n",
       "        [ 43, 116, 146],\n",
       "        ...,\n",
       "        [  0,   0,   0],\n",
       "        [  0,   0,   0],\n",
       "        [  0,   0,   0]],\n",
       "\n",
       "       ...,\n",
       "\n",
       "       [[  0,   0,   0],\n",
       "        [  0,   0,   0],\n",
       "        [  0,   0,   0],\n",
       "        ...,\n",
       "        [  0,   0,   0],\n",
       "        [  0,   0,   0],\n",
       "        [  0,   0,   0]],\n",
       "\n",
       "       [[  0,   0,   0],\n",
       "        [  0,   0,   0],\n",
       "        [  0,   0,   0],\n",
       "        ...,\n",
       "        [  0,   0,   0],\n",
       "        [  0,   0,   0],\n",
       "        [  0,   0,   0]],\n",
       "\n",
       "       [[  0,   0,   0],\n",
       "        [  0,   0,   0],\n",
       "        [  0,   0,   0],\n",
       "        ...,\n",
       "        [  0,   0,   0],\n",
       "        [  0,   0,   0],\n",
       "        [  0,   0,   0]]], dtype=uint8)"
      ]
     },
     "execution_count": 162,
     "metadata": {},
     "output_type": "execute_result"
    }
   ],
   "source": [
    "images[\"train_images\"].as_numpy_iterator().next()"
   ]
  },
  {
   "cell_type": "markdown",
   "id": "419e429f",
   "metadata": {},
   "source": [
    "### 3.6 Adding Labels to Pipeline"
   ]
  },
  {
   "cell_type": "code",
   "execution_count": 23,
   "id": "5e23eada",
   "metadata": {},
   "outputs": [],
   "source": [
    "def parse_dataset(xml_path_tensor):\n",
    "    # Use tf.py_function to wrap the parsing function\n",
    "    def parse_func(xml_path):\n",
    "        xml_path = xml_path.numpy().decode('utf-8')\n",
    "        \n",
    "        bbox_coords = parseXML(xml_path)\n",
    "        \n",
    "        return bbox_coords\n",
    "\n",
    "    bbox_coords = tf.py_function(parse_func, [xml_path_tensor], [tf.int32, tf.int32, tf.int32, tf.int32])\n",
    "    \n",
    "    # Stack the individual tensors along the last axis to get a single tensor\n",
    "    bbox_coords = tf.stack(bbox_coords, axis=-1)\n",
    "    \n",
    "    return bbox_coords\n"
   ]
  },
  {
   "cell_type": "code",
   "execution_count": 24,
   "id": "91bb51f7",
   "metadata": {},
   "outputs": [
    {
     "data": {
      "text/plain": [
       "array([0.88627451, 0.49019608, 1.64313725, 0.67843137])"
      ]
     },
     "execution_count": 24,
     "metadata": {},
     "output_type": "execute_result"
    }
   ],
   "source": [
    "labels = {}\n",
    "\n",
    "for folder in folders:\n",
    "    labels_path  = os.path.join(DATA_DIR, folder, \"labels\", \"*.xml\")\n",
    "    \n",
    "    labels[f\"{folder}_labels\"] = tf.data.Dataset.list_files(labels_path, shuffle=False)\n",
    "    \n",
    "    labels[f\"{folder}_labels\"] = labels[f\"{folder}_labels\"].map(parse_dataset)\n",
    "    \n",
    "    labels[f\"{folder}_labels\"] = labels[f\"{folder}_labels\"].map(lambda x: x / 255)\n",
    "    \n",
    "    \n",
    "labels[\"train_labels\"].as_numpy_iterator().next()"
   ]
  },
  {
   "cell_type": "code",
   "execution_count": 146,
   "id": "6a4a25c1",
   "metadata": {},
   "outputs": [
    {
     "data": {
      "text/plain": [
       "array([0.88627451, 0.49019608, 1.64313725, 0.67843137])"
      ]
     },
     "execution_count": 146,
     "metadata": {},
     "output_type": "execute_result"
    }
   ],
   "source": [
    "labels[\"train_labels\"].as_numpy_iterator().next()"
   ]
  },
  {
   "cell_type": "markdown",
   "id": "f5de971d",
   "metadata": {},
   "source": [
    "### 3.7 Combining Images and Labels"
   ]
  },
  {
   "cell_type": "code",
   "execution_count": 179,
   "id": "9b278bee",
   "metadata": {},
   "outputs": [],
   "source": [
    "training_set = tf.data.Dataset.zip(images[\"train_images\"], labels[\"train_labels\"])\n",
    "\n",
    "# training_set = training_set.batch(8)  # Adjust batch_size as needed\n",
    "# # training_set = training_set.prefetch(buffer_size=tf.data.experimental.AUTOTUNE)\n",
    "# training_set = training_set.prefetch(4)\n"
   ]
  },
  {
   "cell_type": "code",
   "execution_count": 180,
   "id": "b75ff896",
   "metadata": {},
   "outputs": [
    {
     "data": {
      "text/plain": [
       "(array([[[ 25,  75, 100],\n",
       "         [ 73, 130, 159],\n",
       "         [ 52, 127, 158],\n",
       "         ...,\n",
       "         [  0,   0,   0],\n",
       "         [  0,   0,   0],\n",
       "         [  0,   0,   0]],\n",
       " \n",
       "        [[ 31,  79, 101],\n",
       "         [ 65, 121, 146],\n",
       "         [ 46, 119, 151],\n",
       "         ...,\n",
       "         [  0,   0,   0],\n",
       "         [  0,   0,   0],\n",
       "         [  0,   0,   0]],\n",
       " \n",
       "        [[ 44,  87, 104],\n",
       "         [ 65, 117, 139],\n",
       "         [ 43, 116, 146],\n",
       "         ...,\n",
       "         [  0,   0,   0],\n",
       "         [  0,   0,   0],\n",
       "         [  0,   0,   0]],\n",
       " \n",
       "        ...,\n",
       " \n",
       "        [[  0,   0,   0],\n",
       "         [  0,   0,   0],\n",
       "         [  0,   0,   0],\n",
       "         ...,\n",
       "         [  0,   0,   0],\n",
       "         [  0,   0,   0],\n",
       "         [  0,   0,   0]],\n",
       " \n",
       "        [[  0,   0,   0],\n",
       "         [  0,   0,   0],\n",
       "         [  0,   0,   0],\n",
       "         ...,\n",
       "         [  0,   0,   0],\n",
       "         [  0,   0,   0],\n",
       "         [  0,   0,   0]],\n",
       " \n",
       "        [[  0,   0,   0],\n",
       "         [  0,   0,   0],\n",
       "         [  0,   0,   0],\n",
       "         ...,\n",
       "         [  0,   0,   0],\n",
       "         [  0,   0,   0],\n",
       "         [  0,   0,   0]]], dtype=uint8),\n",
       " array([0.88627451, 0.49019608, 1.64313725, 0.67843137]))"
      ]
     },
     "execution_count": 180,
     "metadata": {},
     "output_type": "execute_result"
    }
   ],
   "source": [
    "training_set.as_numpy_iterator().next()"
   ]
  },
  {
   "cell_type": "code",
   "execution_count": 181,
   "id": "0b6d6c7c",
   "metadata": {},
   "outputs": [],
   "source": [
    "training_set = training_set.batch(batch_size=8)  # Adjust batch_size as needed\n",
    "# training_set = training_set.prefetch(buffer_size=tf.data.experimental.AUTOTUNE)\n",
    "training_set = training_set.prefetch(4)"
   ]
  },
  {
   "cell_type": "code",
   "execution_count": 182,
   "id": "3ddcae98",
   "metadata": {},
   "outputs": [
    {
     "data": {
      "text/plain": [
       "(8, 531, 600, 3)"
      ]
     },
     "execution_count": 182,
     "metadata": {},
     "output_type": "execute_result"
    }
   ],
   "source": [
    "training_set.as_numpy_iterator().next()[0].shape"
   ]
  },
  {
   "cell_type": "markdown",
   "id": "a26f1d8a",
   "metadata": {},
   "source": [
    "# Applying YOLO"
   ]
  },
  {
   "cell_type": "code",
   "execution_count": 2,
   "id": "dbd58cf6",
   "metadata": {},
   "outputs": [],
   "source": [
    "from ultralytics import YOLO"
   ]
  },
  {
   "cell_type": "code",
   "execution_count": 3,
   "id": "4ac38e05",
   "metadata": {},
   "outputs": [
    {
     "name": "stdout",
     "output_type": "stream",
     "text": [
      "\n",
      "                   from  n    params  module                                       arguments                     \n",
      "  0                  -1  1       464  ultralytics.nn.modules.conv.Conv             [3, 16, 3, 2]                 \n",
      "  1                  -1  1      4672  ultralytics.nn.modules.conv.Conv             [16, 32, 3, 2]                \n",
      "  2                  -1  1      7360  ultralytics.nn.modules.block.C2f             [32, 32, 1, True]             \n",
      "  3                  -1  1     18560  ultralytics.nn.modules.conv.Conv             [32, 64, 3, 2]                \n",
      "  4                  -1  2     49664  ultralytics.nn.modules.block.C2f             [64, 64, 2, True]             \n",
      "  5                  -1  1     73984  ultralytics.nn.modules.conv.Conv             [64, 128, 3, 2]               \n",
      "  6                  -1  2    197632  ultralytics.nn.modules.block.C2f             [128, 128, 2, True]           \n",
      "  7                  -1  1    295424  ultralytics.nn.modules.conv.Conv             [128, 256, 3, 2]              \n",
      "  8                  -1  1    460288  ultralytics.nn.modules.block.C2f             [256, 256, 1, True]           \n",
      "  9                  -1  1    164608  ultralytics.nn.modules.block.SPPF            [256, 256, 5]                 \n",
      " 10                  -1  1         0  torch.nn.modules.upsampling.Upsample         [None, 2, 'nearest']          \n",
      " 11             [-1, 6]  1         0  ultralytics.nn.modules.conv.Concat           [1]                           \n",
      " 12                  -1  1    148224  ultralytics.nn.modules.block.C2f             [384, 128, 1]                 \n",
      " 13                  -1  1         0  torch.nn.modules.upsampling.Upsample         [None, 2, 'nearest']          \n",
      " 14             [-1, 4]  1         0  ultralytics.nn.modules.conv.Concat           [1]                           \n",
      " 15                  -1  1     37248  ultralytics.nn.modules.block.C2f             [192, 64, 1]                  \n",
      " 16                  -1  1     36992  ultralytics.nn.modules.conv.Conv             [64, 64, 3, 2]                \n",
      " 17            [-1, 12]  1         0  ultralytics.nn.modules.conv.Concat           [1]                           \n",
      " 18                  -1  1    123648  ultralytics.nn.modules.block.C2f             [192, 128, 1]                 \n",
      " 19                  -1  1    147712  ultralytics.nn.modules.conv.Conv             [128, 128, 3, 2]              \n",
      " 20             [-1, 9]  1         0  ultralytics.nn.modules.conv.Concat           [1]                           \n",
      " 21                  -1  1    493056  ultralytics.nn.modules.block.C2f             [384, 256, 1]                 \n",
      " 22        [15, 18, 21]  1    897664  ultralytics.nn.modules.head.Detect           [80, [64, 128, 256]]          \n",
      "YOLOv8n summary: 225 layers, 3157200 parameters, 3157184 gradients, 8.9 GFLOPs\n",
      "\n"
     ]
    }
   ],
   "source": [
    "model = YOLO(\"yolov8n.yaml\")"
   ]
  },
  {
   "cell_type": "code",
   "execution_count": 4,
   "id": "5a0c5d05",
   "metadata": {},
   "outputs": [
    {
     "name": "stdout",
     "output_type": "stream",
     "text": [
      "Transferred 319/355 items from pretrained weights\n"
     ]
    },
    {
     "data": {
      "text/plain": [
       "YOLO(\n",
       "  (model): DetectionModel(\n",
       "    (model): Sequential(\n",
       "      (0): Conv(\n",
       "        (conv): Conv2d(3, 16, kernel_size=(3, 3), stride=(2, 2), padding=(1, 1), bias=False)\n",
       "        (bn): BatchNorm2d(16, eps=0.001, momentum=0.03, affine=True, track_running_stats=True)\n",
       "        (act): SiLU(inplace=True)\n",
       "      )\n",
       "      (1): Conv(\n",
       "        (conv): Conv2d(16, 32, kernel_size=(3, 3), stride=(2, 2), padding=(1, 1), bias=False)\n",
       "        (bn): BatchNorm2d(32, eps=0.001, momentum=0.03, affine=True, track_running_stats=True)\n",
       "        (act): SiLU(inplace=True)\n",
       "      )\n",
       "      (2): C2f(\n",
       "        (cv1): Conv(\n",
       "          (conv): Conv2d(32, 32, kernel_size=(1, 1), stride=(1, 1), bias=False)\n",
       "          (bn): BatchNorm2d(32, eps=0.001, momentum=0.03, affine=True, track_running_stats=True)\n",
       "          (act): SiLU(inplace=True)\n",
       "        )\n",
       "        (cv2): Conv(\n",
       "          (conv): Conv2d(48, 32, kernel_size=(1, 1), stride=(1, 1), bias=False)\n",
       "          (bn): BatchNorm2d(32, eps=0.001, momentum=0.03, affine=True, track_running_stats=True)\n",
       "          (act): SiLU(inplace=True)\n",
       "        )\n",
       "        (m): ModuleList(\n",
       "          (0): Bottleneck(\n",
       "            (cv1): Conv(\n",
       "              (conv): Conv2d(16, 16, kernel_size=(3, 3), stride=(1, 1), padding=(1, 1), bias=False)\n",
       "              (bn): BatchNorm2d(16, eps=0.001, momentum=0.03, affine=True, track_running_stats=True)\n",
       "              (act): SiLU(inplace=True)\n",
       "            )\n",
       "            (cv2): Conv(\n",
       "              (conv): Conv2d(16, 16, kernel_size=(3, 3), stride=(1, 1), padding=(1, 1), bias=False)\n",
       "              (bn): BatchNorm2d(16, eps=0.001, momentum=0.03, affine=True, track_running_stats=True)\n",
       "              (act): SiLU(inplace=True)\n",
       "            )\n",
       "          )\n",
       "        )\n",
       "      )\n",
       "      (3): Conv(\n",
       "        (conv): Conv2d(32, 64, kernel_size=(3, 3), stride=(2, 2), padding=(1, 1), bias=False)\n",
       "        (bn): BatchNorm2d(64, eps=0.001, momentum=0.03, affine=True, track_running_stats=True)\n",
       "        (act): SiLU(inplace=True)\n",
       "      )\n",
       "      (4): C2f(\n",
       "        (cv1): Conv(\n",
       "          (conv): Conv2d(64, 64, kernel_size=(1, 1), stride=(1, 1), bias=False)\n",
       "          (bn): BatchNorm2d(64, eps=0.001, momentum=0.03, affine=True, track_running_stats=True)\n",
       "          (act): SiLU(inplace=True)\n",
       "        )\n",
       "        (cv2): Conv(\n",
       "          (conv): Conv2d(128, 64, kernel_size=(1, 1), stride=(1, 1), bias=False)\n",
       "          (bn): BatchNorm2d(64, eps=0.001, momentum=0.03, affine=True, track_running_stats=True)\n",
       "          (act): SiLU(inplace=True)\n",
       "        )\n",
       "        (m): ModuleList(\n",
       "          (0-1): 2 x Bottleneck(\n",
       "            (cv1): Conv(\n",
       "              (conv): Conv2d(32, 32, kernel_size=(3, 3), stride=(1, 1), padding=(1, 1), bias=False)\n",
       "              (bn): BatchNorm2d(32, eps=0.001, momentum=0.03, affine=True, track_running_stats=True)\n",
       "              (act): SiLU(inplace=True)\n",
       "            )\n",
       "            (cv2): Conv(\n",
       "              (conv): Conv2d(32, 32, kernel_size=(3, 3), stride=(1, 1), padding=(1, 1), bias=False)\n",
       "              (bn): BatchNorm2d(32, eps=0.001, momentum=0.03, affine=True, track_running_stats=True)\n",
       "              (act): SiLU(inplace=True)\n",
       "            )\n",
       "          )\n",
       "        )\n",
       "      )\n",
       "      (5): Conv(\n",
       "        (conv): Conv2d(64, 128, kernel_size=(3, 3), stride=(2, 2), padding=(1, 1), bias=False)\n",
       "        (bn): BatchNorm2d(128, eps=0.001, momentum=0.03, affine=True, track_running_stats=True)\n",
       "        (act): SiLU(inplace=True)\n",
       "      )\n",
       "      (6): C2f(\n",
       "        (cv1): Conv(\n",
       "          (conv): Conv2d(128, 128, kernel_size=(1, 1), stride=(1, 1), bias=False)\n",
       "          (bn): BatchNorm2d(128, eps=0.001, momentum=0.03, affine=True, track_running_stats=True)\n",
       "          (act): SiLU(inplace=True)\n",
       "        )\n",
       "        (cv2): Conv(\n",
       "          (conv): Conv2d(256, 128, kernel_size=(1, 1), stride=(1, 1), bias=False)\n",
       "          (bn): BatchNorm2d(128, eps=0.001, momentum=0.03, affine=True, track_running_stats=True)\n",
       "          (act): SiLU(inplace=True)\n",
       "        )\n",
       "        (m): ModuleList(\n",
       "          (0-1): 2 x Bottleneck(\n",
       "            (cv1): Conv(\n",
       "              (conv): Conv2d(64, 64, kernel_size=(3, 3), stride=(1, 1), padding=(1, 1), bias=False)\n",
       "              (bn): BatchNorm2d(64, eps=0.001, momentum=0.03, affine=True, track_running_stats=True)\n",
       "              (act): SiLU(inplace=True)\n",
       "            )\n",
       "            (cv2): Conv(\n",
       "              (conv): Conv2d(64, 64, kernel_size=(3, 3), stride=(1, 1), padding=(1, 1), bias=False)\n",
       "              (bn): BatchNorm2d(64, eps=0.001, momentum=0.03, affine=True, track_running_stats=True)\n",
       "              (act): SiLU(inplace=True)\n",
       "            )\n",
       "          )\n",
       "        )\n",
       "      )\n",
       "      (7): Conv(\n",
       "        (conv): Conv2d(128, 256, kernel_size=(3, 3), stride=(2, 2), padding=(1, 1), bias=False)\n",
       "        (bn): BatchNorm2d(256, eps=0.001, momentum=0.03, affine=True, track_running_stats=True)\n",
       "        (act): SiLU(inplace=True)\n",
       "      )\n",
       "      (8): C2f(\n",
       "        (cv1): Conv(\n",
       "          (conv): Conv2d(256, 256, kernel_size=(1, 1), stride=(1, 1), bias=False)\n",
       "          (bn): BatchNorm2d(256, eps=0.001, momentum=0.03, affine=True, track_running_stats=True)\n",
       "          (act): SiLU(inplace=True)\n",
       "        )\n",
       "        (cv2): Conv(\n",
       "          (conv): Conv2d(384, 256, kernel_size=(1, 1), stride=(1, 1), bias=False)\n",
       "          (bn): BatchNorm2d(256, eps=0.001, momentum=0.03, affine=True, track_running_stats=True)\n",
       "          (act): SiLU(inplace=True)\n",
       "        )\n",
       "        (m): ModuleList(\n",
       "          (0): Bottleneck(\n",
       "            (cv1): Conv(\n",
       "              (conv): Conv2d(128, 128, kernel_size=(3, 3), stride=(1, 1), padding=(1, 1), bias=False)\n",
       "              (bn): BatchNorm2d(128, eps=0.001, momentum=0.03, affine=True, track_running_stats=True)\n",
       "              (act): SiLU(inplace=True)\n",
       "            )\n",
       "            (cv2): Conv(\n",
       "              (conv): Conv2d(128, 128, kernel_size=(3, 3), stride=(1, 1), padding=(1, 1), bias=False)\n",
       "              (bn): BatchNorm2d(128, eps=0.001, momentum=0.03, affine=True, track_running_stats=True)\n",
       "              (act): SiLU(inplace=True)\n",
       "            )\n",
       "          )\n",
       "        )\n",
       "      )\n",
       "      (9): SPPF(\n",
       "        (cv1): Conv(\n",
       "          (conv): Conv2d(256, 128, kernel_size=(1, 1), stride=(1, 1), bias=False)\n",
       "          (bn): BatchNorm2d(128, eps=0.001, momentum=0.03, affine=True, track_running_stats=True)\n",
       "          (act): SiLU(inplace=True)\n",
       "        )\n",
       "        (cv2): Conv(\n",
       "          (conv): Conv2d(512, 256, kernel_size=(1, 1), stride=(1, 1), bias=False)\n",
       "          (bn): BatchNorm2d(256, eps=0.001, momentum=0.03, affine=True, track_running_stats=True)\n",
       "          (act): SiLU(inplace=True)\n",
       "        )\n",
       "        (m): MaxPool2d(kernel_size=5, stride=1, padding=2, dilation=1, ceil_mode=False)\n",
       "      )\n",
       "      (10): Upsample(scale_factor=2.0, mode='nearest')\n",
       "      (11): Concat()\n",
       "      (12): C2f(\n",
       "        (cv1): Conv(\n",
       "          (conv): Conv2d(384, 128, kernel_size=(1, 1), stride=(1, 1), bias=False)\n",
       "          (bn): BatchNorm2d(128, eps=0.001, momentum=0.03, affine=True, track_running_stats=True)\n",
       "          (act): SiLU(inplace=True)\n",
       "        )\n",
       "        (cv2): Conv(\n",
       "          (conv): Conv2d(192, 128, kernel_size=(1, 1), stride=(1, 1), bias=False)\n",
       "          (bn): BatchNorm2d(128, eps=0.001, momentum=0.03, affine=True, track_running_stats=True)\n",
       "          (act): SiLU(inplace=True)\n",
       "        )\n",
       "        (m): ModuleList(\n",
       "          (0): Bottleneck(\n",
       "            (cv1): Conv(\n",
       "              (conv): Conv2d(64, 64, kernel_size=(3, 3), stride=(1, 1), padding=(1, 1), bias=False)\n",
       "              (bn): BatchNorm2d(64, eps=0.001, momentum=0.03, affine=True, track_running_stats=True)\n",
       "              (act): SiLU(inplace=True)\n",
       "            )\n",
       "            (cv2): Conv(\n",
       "              (conv): Conv2d(64, 64, kernel_size=(3, 3), stride=(1, 1), padding=(1, 1), bias=False)\n",
       "              (bn): BatchNorm2d(64, eps=0.001, momentum=0.03, affine=True, track_running_stats=True)\n",
       "              (act): SiLU(inplace=True)\n",
       "            )\n",
       "          )\n",
       "        )\n",
       "      )\n",
       "      (13): Upsample(scale_factor=2.0, mode='nearest')\n",
       "      (14): Concat()\n",
       "      (15): C2f(\n",
       "        (cv1): Conv(\n",
       "          (conv): Conv2d(192, 64, kernel_size=(1, 1), stride=(1, 1), bias=False)\n",
       "          (bn): BatchNorm2d(64, eps=0.001, momentum=0.03, affine=True, track_running_stats=True)\n",
       "          (act): SiLU(inplace=True)\n",
       "        )\n",
       "        (cv2): Conv(\n",
       "          (conv): Conv2d(96, 64, kernel_size=(1, 1), stride=(1, 1), bias=False)\n",
       "          (bn): BatchNorm2d(64, eps=0.001, momentum=0.03, affine=True, track_running_stats=True)\n",
       "          (act): SiLU(inplace=True)\n",
       "        )\n",
       "        (m): ModuleList(\n",
       "          (0): Bottleneck(\n",
       "            (cv1): Conv(\n",
       "              (conv): Conv2d(32, 32, kernel_size=(3, 3), stride=(1, 1), padding=(1, 1), bias=False)\n",
       "              (bn): BatchNorm2d(32, eps=0.001, momentum=0.03, affine=True, track_running_stats=True)\n",
       "              (act): SiLU(inplace=True)\n",
       "            )\n",
       "            (cv2): Conv(\n",
       "              (conv): Conv2d(32, 32, kernel_size=(3, 3), stride=(1, 1), padding=(1, 1), bias=False)\n",
       "              (bn): BatchNorm2d(32, eps=0.001, momentum=0.03, affine=True, track_running_stats=True)\n",
       "              (act): SiLU(inplace=True)\n",
       "            )\n",
       "          )\n",
       "        )\n",
       "      )\n",
       "      (16): Conv(\n",
       "        (conv): Conv2d(64, 64, kernel_size=(3, 3), stride=(2, 2), padding=(1, 1), bias=False)\n",
       "        (bn): BatchNorm2d(64, eps=0.001, momentum=0.03, affine=True, track_running_stats=True)\n",
       "        (act): SiLU(inplace=True)\n",
       "      )\n",
       "      (17): Concat()\n",
       "      (18): C2f(\n",
       "        (cv1): Conv(\n",
       "          (conv): Conv2d(192, 128, kernel_size=(1, 1), stride=(1, 1), bias=False)\n",
       "          (bn): BatchNorm2d(128, eps=0.001, momentum=0.03, affine=True, track_running_stats=True)\n",
       "          (act): SiLU(inplace=True)\n",
       "        )\n",
       "        (cv2): Conv(\n",
       "          (conv): Conv2d(192, 128, kernel_size=(1, 1), stride=(1, 1), bias=False)\n",
       "          (bn): BatchNorm2d(128, eps=0.001, momentum=0.03, affine=True, track_running_stats=True)\n",
       "          (act): SiLU(inplace=True)\n",
       "        )\n",
       "        (m): ModuleList(\n",
       "          (0): Bottleneck(\n",
       "            (cv1): Conv(\n",
       "              (conv): Conv2d(64, 64, kernel_size=(3, 3), stride=(1, 1), padding=(1, 1), bias=False)\n",
       "              (bn): BatchNorm2d(64, eps=0.001, momentum=0.03, affine=True, track_running_stats=True)\n",
       "              (act): SiLU(inplace=True)\n",
       "            )\n",
       "            (cv2): Conv(\n",
       "              (conv): Conv2d(64, 64, kernel_size=(3, 3), stride=(1, 1), padding=(1, 1), bias=False)\n",
       "              (bn): BatchNorm2d(64, eps=0.001, momentum=0.03, affine=True, track_running_stats=True)\n",
       "              (act): SiLU(inplace=True)\n",
       "            )\n",
       "          )\n",
       "        )\n",
       "      )\n",
       "      (19): Conv(\n",
       "        (conv): Conv2d(128, 128, kernel_size=(3, 3), stride=(2, 2), padding=(1, 1), bias=False)\n",
       "        (bn): BatchNorm2d(128, eps=0.001, momentum=0.03, affine=True, track_running_stats=True)\n",
       "        (act): SiLU(inplace=True)\n",
       "      )\n",
       "      (20): Concat()\n",
       "      (21): C2f(\n",
       "        (cv1): Conv(\n",
       "          (conv): Conv2d(384, 256, kernel_size=(1, 1), stride=(1, 1), bias=False)\n",
       "          (bn): BatchNorm2d(256, eps=0.001, momentum=0.03, affine=True, track_running_stats=True)\n",
       "          (act): SiLU(inplace=True)\n",
       "        )\n",
       "        (cv2): Conv(\n",
       "          (conv): Conv2d(384, 256, kernel_size=(1, 1), stride=(1, 1), bias=False)\n",
       "          (bn): BatchNorm2d(256, eps=0.001, momentum=0.03, affine=True, track_running_stats=True)\n",
       "          (act): SiLU(inplace=True)\n",
       "        )\n",
       "        (m): ModuleList(\n",
       "          (0): Bottleneck(\n",
       "            (cv1): Conv(\n",
       "              (conv): Conv2d(128, 128, kernel_size=(3, 3), stride=(1, 1), padding=(1, 1), bias=False)\n",
       "              (bn): BatchNorm2d(128, eps=0.001, momentum=0.03, affine=True, track_running_stats=True)\n",
       "              (act): SiLU(inplace=True)\n",
       "            )\n",
       "            (cv2): Conv(\n",
       "              (conv): Conv2d(128, 128, kernel_size=(3, 3), stride=(1, 1), padding=(1, 1), bias=False)\n",
       "              (bn): BatchNorm2d(128, eps=0.001, momentum=0.03, affine=True, track_running_stats=True)\n",
       "              (act): SiLU(inplace=True)\n",
       "            )\n",
       "          )\n",
       "        )\n",
       "      )\n",
       "      (22): Detect(\n",
       "        (cv2): ModuleList(\n",
       "          (0): Sequential(\n",
       "            (0): Conv(\n",
       "              (conv): Conv2d(64, 64, kernel_size=(3, 3), stride=(1, 1), padding=(1, 1), bias=False)\n",
       "              (bn): BatchNorm2d(64, eps=0.001, momentum=0.03, affine=True, track_running_stats=True)\n",
       "              (act): SiLU(inplace=True)\n",
       "            )\n",
       "            (1): Conv(\n",
       "              (conv): Conv2d(64, 64, kernel_size=(3, 3), stride=(1, 1), padding=(1, 1), bias=False)\n",
       "              (bn): BatchNorm2d(64, eps=0.001, momentum=0.03, affine=True, track_running_stats=True)\n",
       "              (act): SiLU(inplace=True)\n",
       "            )\n",
       "            (2): Conv2d(64, 64, kernel_size=(1, 1), stride=(1, 1))\n",
       "          )\n",
       "          (1): Sequential(\n",
       "            (0): Conv(\n",
       "              (conv): Conv2d(128, 64, kernel_size=(3, 3), stride=(1, 1), padding=(1, 1), bias=False)\n",
       "              (bn): BatchNorm2d(64, eps=0.001, momentum=0.03, affine=True, track_running_stats=True)\n",
       "              (act): SiLU(inplace=True)\n",
       "            )\n",
       "            (1): Conv(\n",
       "              (conv): Conv2d(64, 64, kernel_size=(3, 3), stride=(1, 1), padding=(1, 1), bias=False)\n",
       "              (bn): BatchNorm2d(64, eps=0.001, momentum=0.03, affine=True, track_running_stats=True)\n",
       "              (act): SiLU(inplace=True)\n",
       "            )\n",
       "            (2): Conv2d(64, 64, kernel_size=(1, 1), stride=(1, 1))\n",
       "          )\n",
       "          (2): Sequential(\n",
       "            (0): Conv(\n",
       "              (conv): Conv2d(256, 64, kernel_size=(3, 3), stride=(1, 1), padding=(1, 1), bias=False)\n",
       "              (bn): BatchNorm2d(64, eps=0.001, momentum=0.03, affine=True, track_running_stats=True)\n",
       "              (act): SiLU(inplace=True)\n",
       "            )\n",
       "            (1): Conv(\n",
       "              (conv): Conv2d(64, 64, kernel_size=(3, 3), stride=(1, 1), padding=(1, 1), bias=False)\n",
       "              (bn): BatchNorm2d(64, eps=0.001, momentum=0.03, affine=True, track_running_stats=True)\n",
       "              (act): SiLU(inplace=True)\n",
       "            )\n",
       "            (2): Conv2d(64, 64, kernel_size=(1, 1), stride=(1, 1))\n",
       "          )\n",
       "        )\n",
       "        (cv3): ModuleList(\n",
       "          (0): Sequential(\n",
       "            (0): Conv(\n",
       "              (conv): Conv2d(64, 80, kernel_size=(3, 3), stride=(1, 1), padding=(1, 1), bias=False)\n",
       "              (bn): BatchNorm2d(80, eps=0.001, momentum=0.03, affine=True, track_running_stats=True)\n",
       "              (act): SiLU(inplace=True)\n",
       "            )\n",
       "            (1): Conv(\n",
       "              (conv): Conv2d(80, 80, kernel_size=(3, 3), stride=(1, 1), padding=(1, 1), bias=False)\n",
       "              (bn): BatchNorm2d(80, eps=0.001, momentum=0.03, affine=True, track_running_stats=True)\n",
       "              (act): SiLU(inplace=True)\n",
       "            )\n",
       "            (2): Conv2d(80, 80, kernel_size=(1, 1), stride=(1, 1))\n",
       "          )\n",
       "          (1): Sequential(\n",
       "            (0): Conv(\n",
       "              (conv): Conv2d(128, 80, kernel_size=(3, 3), stride=(1, 1), padding=(1, 1), bias=False)\n",
       "              (bn): BatchNorm2d(80, eps=0.001, momentum=0.03, affine=True, track_running_stats=True)\n",
       "              (act): SiLU(inplace=True)\n",
       "            )\n",
       "            (1): Conv(\n",
       "              (conv): Conv2d(80, 80, kernel_size=(3, 3), stride=(1, 1), padding=(1, 1), bias=False)\n",
       "              (bn): BatchNorm2d(80, eps=0.001, momentum=0.03, affine=True, track_running_stats=True)\n",
       "              (act): SiLU(inplace=True)\n",
       "            )\n",
       "            (2): Conv2d(80, 80, kernel_size=(1, 1), stride=(1, 1))\n",
       "          )\n",
       "          (2): Sequential(\n",
       "            (0): Conv(\n",
       "              (conv): Conv2d(256, 80, kernel_size=(3, 3), stride=(1, 1), padding=(1, 1), bias=False)\n",
       "              (bn): BatchNorm2d(80, eps=0.001, momentum=0.03, affine=True, track_running_stats=True)\n",
       "              (act): SiLU(inplace=True)\n",
       "            )\n",
       "            (1): Conv(\n",
       "              (conv): Conv2d(80, 80, kernel_size=(3, 3), stride=(1, 1), padding=(1, 1), bias=False)\n",
       "              (bn): BatchNorm2d(80, eps=0.001, momentum=0.03, affine=True, track_running_stats=True)\n",
       "              (act): SiLU(inplace=True)\n",
       "            )\n",
       "            (2): Conv2d(80, 80, kernel_size=(1, 1), stride=(1, 1))\n",
       "          )\n",
       "        )\n",
       "        (dfl): DFL(\n",
       "          (conv): Conv2d(16, 1, kernel_size=(1, 1), stride=(1, 1), bias=False)\n",
       "        )\n",
       "      )\n",
       "    )\n",
       "  )\n",
       ")"
      ]
     },
     "execution_count": 4,
     "metadata": {},
     "output_type": "execute_result"
    }
   ],
   "source": [
    "model.load(\"best.pt\")"
   ]
  },
  {
   "cell_type": "code",
   "execution_count": 5,
   "id": "f9541557",
   "metadata": {},
   "outputs": [
    {
     "ename": "NameError",
     "evalue": "name 'cv2' is not defined",
     "output_type": "error",
     "traceback": [
      "\u001b[1;31m---------------------------------------------------------------------------\u001b[0m",
      "\u001b[1;31mNameError\u001b[0m                                 Traceback (most recent call last)",
      "Cell \u001b[1;32mIn[5], line 1\u001b[0m\n\u001b[1;32m----> 1\u001b[0m img \u001b[38;5;241m=\u001b[39m cv2\u001b[38;5;241m.\u001b[39mimread(\u001b[38;5;124m\"\u001b[39m\u001b[38;5;124m/data/test/test_padded/Cars411.png\u001b[39m\u001b[38;5;124m\"\u001b[39m)\n\u001b[0;32m      3\u001b[0m img\n",
      "\u001b[1;31mNameError\u001b[0m: name 'cv2' is not defined"
     ]
    }
   ],
   "source": [
    "img = cv2.imread(\"/data/test/test_padded/Cars411.png\")\n",
    "\n",
    "img"
   ]
  },
  {
   "cell_type": "code",
   "execution_count": null,
   "id": "03fd2c69",
   "metadata": {},
   "outputs": [],
   "source": [
    "results = model.predict()"
   ]
  },
  {
   "cell_type": "code",
   "execution_count": null,
   "id": "61792da2",
   "metadata": {},
   "outputs": [],
   "source": []
  },
  {
   "cell_type": "markdown",
   "id": "0719fe2b",
   "metadata": {},
   "source": [
    "# Model Building"
   ]
  },
  {
   "cell_type": "code",
   "execution_count": 102,
   "id": "e76fff16",
   "metadata": {},
   "outputs": [],
   "source": [
    "from tensorflow.keras.models import Model, Sequential\n",
    "from tensorflow.keras.layers import Input, Dense, GlobalMaxPooling2D, Flatten\n",
    "from tensorflow.keras.applications import VGG16\n",
    "\n",
    "from tensorflow.keras.optimizers import Adam\n",
    "from tensorflow.keras.losses import BinaryCrossentropy"
   ]
  },
  {
   "cell_type": "markdown",
   "id": "161b94fa",
   "metadata": {},
   "source": [
    "### Downloading the model"
   ]
  },
  {
   "cell_type": "code",
   "execution_count": 89,
   "id": "90c5dc06",
   "metadata": {},
   "outputs": [
    {
     "name": "stdout",
     "output_type": "stream",
     "text": [
      "Downloading data from https://storage.googleapis.com/tensorflow/keras-applications/vgg16/vgg16_weights_tf_dim_ordering_tf_kernels_notop.h5\n",
      "58889256/58889256 [==============================] - 25s 0us/step\n"
     ]
    }
   ],
   "source": [
    "vgg = VGG16(include_top=False)"
   ]
  },
  {
   "cell_type": "code",
   "execution_count": 184,
   "id": "6a640042",
   "metadata": {},
   "outputs": [],
   "source": [
    "def build_model():\n",
    "    input_layer = Input(shape=(531, 600, 3))\n",
    "    \n",
    "    vgg = VGG16(include_top=False)(input_layer)\n",
    "    \n",
    "    max_pooling = GlobalMaxPooling2D()(vgg)\n",
    "    dense_1 = Dense(2048, activation=\"relu\")(max_pooling)\n",
    "    output_layer = Dense(4, activation=\"sigmoid\")(dense_1)\n",
    "    \n",
    "    plate_detector = Model(inputs=input_layer, outputs=[output_layer], name=\"PlateNet\")\n",
    "    \n",
    "    return plate_detector"
   ]
  },
  {
   "cell_type": "code",
   "execution_count": 185,
   "id": "040e07dd",
   "metadata": {},
   "outputs": [
    {
     "name": "stdout",
     "output_type": "stream",
     "text": [
      "Model: \"PlateNet\"\n",
      "_________________________________________________________________\n",
      " Layer (type)                Output Shape              Param #   \n",
      "=================================================================\n",
      " input_15 (InputLayer)       [(None, 531, 600, 3)]     0         \n",
      "                                                                 \n",
      " vgg16 (Functional)          (None, None, None, 512)   14714688  \n",
      "                                                                 \n",
      " global_max_pooling2d_4 (Gl  (None, 512)               0         \n",
      " obalMaxPooling2D)                                               \n",
      "                                                                 \n",
      " dense_20 (Dense)            (None, 2048)              1050624   \n",
      "                                                                 \n",
      " dense_21 (Dense)            (None, 4)                 8196      \n",
      "                                                                 \n",
      "=================================================================\n",
      "Total params: 15773508 (60.17 MB)\n",
      "Trainable params: 15773508 (60.17 MB)\n",
      "Non-trainable params: 0 (0.00 Byte)\n",
      "_________________________________________________________________\n"
     ]
    }
   ],
   "source": [
    "build_model().summary()"
   ]
  },
  {
   "cell_type": "code",
   "execution_count": 186,
   "id": "02f8ea4d",
   "metadata": {},
   "outputs": [],
   "source": [
    "model = build_model()"
   ]
  },
  {
   "cell_type": "code",
   "execution_count": 187,
   "id": "69ec136c",
   "metadata": {},
   "outputs": [],
   "source": [
    "# Compile the model\n",
    "model.compile(\n",
    "    optimizer=Adam(learning_rate=0.001),  # You can adjust the learning rate (lr) as needed\n",
    "    loss=BinaryCrossentropy(),\n",
    "    metrics=['accuracy']\n",
    ")"
   ]
  },
  {
   "cell_type": "code",
   "execution_count": 188,
   "id": "1b8d70b0",
   "metadata": {},
   "outputs": [
    {
     "name": "stdout",
     "output_type": "stream",
     "text": [
      "263 100\n"
     ]
    },
    {
     "data": {
      "text/plain": [
       "(531, 600, 3)"
      ]
     },
     "execution_count": 188,
     "metadata": {},
     "output_type": "execute_result"
    }
   ],
   "source": [
    "image_path = os.path.join(DATA_DIR, folders[0], \"images\", \"Cars0.png\")  # Replace with the actual path to your image\n",
    "original_image = cv2.imread(image_path)\n",
    "\n",
    "image = pad_image(original_image, max_image_size)\n",
    "image.shape"
   ]
  },
  {
   "cell_type": "code",
   "execution_count": 189,
   "id": "16d83a04",
   "metadata": {},
   "outputs": [
    {
     "name": "stdout",
     "output_type": "stream",
     "text": [
      "1/1 [==============================] - 1s 701ms/step\n"
     ]
    },
    {
     "data": {
      "text/plain": [
       "array([[1.0000000e+00, 1.0000000e+00, 1.9780703e-14, 1.0000000e+00]],\n",
       "      dtype=float32)"
      ]
     },
     "execution_count": 189,
     "metadata": {},
     "output_type": "execute_result"
    }
   ],
   "source": [
    "res = model.predict(tf.expand_dims(image, axis=0))\n",
    "\n",
    "res"
   ]
  },
  {
   "cell_type": "code",
   "execution_count": 191,
   "id": "cb393f0c",
   "metadata": {},
   "outputs": [
    {
     "data": {
      "text/plain": [
       "<_PrefetchDataset element_spec=(TensorSpec(shape=(None, None, None, None), dtype=tf.uint8, name=None), TensorSpec(shape=<unknown>, dtype=tf.float64, name=None))>"
      ]
     },
     "execution_count": 191,
     "metadata": {},
     "output_type": "execute_result"
    }
   ],
   "source": [
    "training_set"
   ]
  },
  {
   "cell_type": "code",
   "execution_count": 190,
   "id": "06772a4c",
   "metadata": {},
   "outputs": [
    {
     "name": "stdout",
     "output_type": "stream",
     "text": [
      "Epoch 1/10\n"
     ]
    },
    {
     "ename": "ValueError",
     "evalue": "in user code:\n\n    File \"C:\\Users\\user\\AppData\\Roaming\\Python\\Python38\\site-packages\\keras\\src\\engine\\training.py\", line 1338, in train_function  *\n        return step_function(self, iterator)\n    File \"C:\\Users\\user\\AppData\\Roaming\\Python\\Python38\\site-packages\\keras\\src\\engine\\training.py\", line 1322, in step_function  **\n        outputs = model.distribute_strategy.run(run_step, args=(data,))\n    File \"C:\\Users\\user\\AppData\\Roaming\\Python\\Python38\\site-packages\\keras\\src\\engine\\training.py\", line 1303, in run_step  **\n        outputs = model.train_step(data)\n    File \"C:\\Users\\user\\AppData\\Roaming\\Python\\Python38\\site-packages\\keras\\src\\engine\\training.py\", line 1085, in train_step\n        return self.compute_metrics(x, y, y_pred, sample_weight)\n    File \"C:\\Users\\user\\AppData\\Roaming\\Python\\Python38\\site-packages\\keras\\src\\engine\\training.py\", line 1179, in compute_metrics\n        self.compiled_metrics.update_state(y, y_pred, sample_weight)\n    File \"C:\\Users\\user\\AppData\\Roaming\\Python\\Python38\\site-packages\\keras\\src\\engine\\compile_utils.py\", line 577, in update_state\n        self.build(y_pred, y_true)\n    File \"C:\\Users\\user\\AppData\\Roaming\\Python\\Python38\\site-packages\\keras\\src\\engine\\compile_utils.py\", line 483, in build\n        self._metrics = tf.__internal__.nest.map_structure_up_to(\n    File \"C:\\Users\\user\\AppData\\Roaming\\Python\\Python38\\site-packages\\keras\\src\\engine\\compile_utils.py\", line 631, in _get_metric_objects\n        return [self._get_metric_object(m, y_t, y_p) for m in metrics]\n    File \"C:\\Users\\user\\AppData\\Roaming\\Python\\Python38\\site-packages\\keras\\src\\engine\\compile_utils.py\", line 631, in <listcomp>\n        return [self._get_metric_object(m, y_t, y_p) for m in metrics]\n    File \"C:\\Users\\user\\AppData\\Roaming\\Python\\Python38\\site-packages\\keras\\src\\engine\\compile_utils.py\", line 652, in _get_metric_object\n        y_t_rank = len(y_t.shape.as_list())\n\n    ValueError: as_list() is not defined on an unknown TensorShape.\n",
     "output_type": "error",
     "traceback": [
      "\u001b[1;31m---------------------------------------------------------------------------\u001b[0m",
      "\u001b[1;31mValueError\u001b[0m                                Traceback (most recent call last)",
      "Cell \u001b[1;32mIn[190], line 8\u001b[0m\n\u001b[0;32m      5\u001b[0m batch_size \u001b[38;5;241m=\u001b[39m \u001b[38;5;241m8\u001b[39m\n\u001b[0;32m      7\u001b[0m \u001b[38;5;66;03m# Fit the model with labels\u001b[39;00m\n\u001b[1;32m----> 8\u001b[0m history \u001b[38;5;241m=\u001b[39m \u001b[43mmodel\u001b[49m\u001b[38;5;241;43m.\u001b[39;49m\u001b[43mfit\u001b[49m\u001b[43m(\u001b[49m\n\u001b[0;32m      9\u001b[0m \u001b[43m    \u001b[49m\u001b[43mtraining_set\u001b[49m\u001b[43m,\u001b[49m\n\u001b[0;32m     10\u001b[0m \u001b[43m    \u001b[49m\u001b[43mepochs\u001b[49m\u001b[38;5;241;43m=\u001b[39;49m\u001b[43mepochs\u001b[49m\u001b[43m,\u001b[49m\n\u001b[0;32m     11\u001b[0m \u001b[43m)\u001b[49m\n",
      "File \u001b[1;32m~\\AppData\\Roaming\\Python\\Python38\\site-packages\\keras\\src\\utils\\traceback_utils.py:70\u001b[0m, in \u001b[0;36mfilter_traceback.<locals>.error_handler\u001b[1;34m(*args, **kwargs)\u001b[0m\n\u001b[0;32m     67\u001b[0m     filtered_tb \u001b[38;5;241m=\u001b[39m _process_traceback_frames(e\u001b[38;5;241m.\u001b[39m__traceback__)\n\u001b[0;32m     68\u001b[0m     \u001b[38;5;66;03m# To get the full stack trace, call:\u001b[39;00m\n\u001b[0;32m     69\u001b[0m     \u001b[38;5;66;03m# `tf.debugging.disable_traceback_filtering()`\u001b[39;00m\n\u001b[1;32m---> 70\u001b[0m     \u001b[38;5;28;01mraise\u001b[39;00m e\u001b[38;5;241m.\u001b[39mwith_traceback(filtered_tb) \u001b[38;5;28;01mfrom\u001b[39;00m \u001b[38;5;28;01mNone\u001b[39;00m\n\u001b[0;32m     71\u001b[0m \u001b[38;5;28;01mfinally\u001b[39;00m:\n\u001b[0;32m     72\u001b[0m     \u001b[38;5;28;01mdel\u001b[39;00m filtered_tb\n",
      "File \u001b[1;32m~\\AppData\\Local\\Temp\\__autograph_generated_filepdmsw_vb.py:15\u001b[0m, in \u001b[0;36mouter_factory.<locals>.inner_factory.<locals>.tf__train_function\u001b[1;34m(iterator)\u001b[0m\n\u001b[0;32m     13\u001b[0m \u001b[38;5;28;01mtry\u001b[39;00m:\n\u001b[0;32m     14\u001b[0m     do_return \u001b[38;5;241m=\u001b[39m \u001b[38;5;28;01mTrue\u001b[39;00m\n\u001b[1;32m---> 15\u001b[0m     retval_ \u001b[38;5;241m=\u001b[39m ag__\u001b[38;5;241m.\u001b[39mconverted_call(ag__\u001b[38;5;241m.\u001b[39mld(step_function), (ag__\u001b[38;5;241m.\u001b[39mld(\u001b[38;5;28mself\u001b[39m), ag__\u001b[38;5;241m.\u001b[39mld(iterator)), \u001b[38;5;28;01mNone\u001b[39;00m, fscope)\n\u001b[0;32m     16\u001b[0m \u001b[38;5;28;01mexcept\u001b[39;00m:\n\u001b[0;32m     17\u001b[0m     do_return \u001b[38;5;241m=\u001b[39m \u001b[38;5;28;01mFalse\u001b[39;00m\n",
      "\u001b[1;31mValueError\u001b[0m: in user code:\n\n    File \"C:\\Users\\user\\AppData\\Roaming\\Python\\Python38\\site-packages\\keras\\src\\engine\\training.py\", line 1338, in train_function  *\n        return step_function(self, iterator)\n    File \"C:\\Users\\user\\AppData\\Roaming\\Python\\Python38\\site-packages\\keras\\src\\engine\\training.py\", line 1322, in step_function  **\n        outputs = model.distribute_strategy.run(run_step, args=(data,))\n    File \"C:\\Users\\user\\AppData\\Roaming\\Python\\Python38\\site-packages\\keras\\src\\engine\\training.py\", line 1303, in run_step  **\n        outputs = model.train_step(data)\n    File \"C:\\Users\\user\\AppData\\Roaming\\Python\\Python38\\site-packages\\keras\\src\\engine\\training.py\", line 1085, in train_step\n        return self.compute_metrics(x, y, y_pred, sample_weight)\n    File \"C:\\Users\\user\\AppData\\Roaming\\Python\\Python38\\site-packages\\keras\\src\\engine\\training.py\", line 1179, in compute_metrics\n        self.compiled_metrics.update_state(y, y_pred, sample_weight)\n    File \"C:\\Users\\user\\AppData\\Roaming\\Python\\Python38\\site-packages\\keras\\src\\engine\\compile_utils.py\", line 577, in update_state\n        self.build(y_pred, y_true)\n    File \"C:\\Users\\user\\AppData\\Roaming\\Python\\Python38\\site-packages\\keras\\src\\engine\\compile_utils.py\", line 483, in build\n        self._metrics = tf.__internal__.nest.map_structure_up_to(\n    File \"C:\\Users\\user\\AppData\\Roaming\\Python\\Python38\\site-packages\\keras\\src\\engine\\compile_utils.py\", line 631, in _get_metric_objects\n        return [self._get_metric_object(m, y_t, y_p) for m in metrics]\n    File \"C:\\Users\\user\\AppData\\Roaming\\Python\\Python38\\site-packages\\keras\\src\\engine\\compile_utils.py\", line 631, in <listcomp>\n        return [self._get_metric_object(m, y_t, y_p) for m in metrics]\n    File \"C:\\Users\\user\\AppData\\Roaming\\Python\\Python38\\site-packages\\keras\\src\\engine\\compile_utils.py\", line 652, in _get_metric_object\n        y_t_rank = len(y_t.shape.as_list())\n\n    ValueError: as_list() is not defined on an unknown TensorShape.\n"
     ]
    }
   ],
   "source": [
    "# keras.utils.plot_model(model, \"model.png\",show_shapes=True)\n",
    "\n",
    "# Assuming you have train_dataset and validation_dataset\n",
    "epochs = 10\n",
    "batch_size = 8\n",
    "\n",
    "# Fit the model with labels\n",
    "history = model.fit(\n",
    "    training_set,\n",
    "    epochs=epochs,\n",
    ")"
   ]
  },
  {
   "cell_type": "markdown",
   "id": "dc34ffb9",
   "metadata": {},
   "source": [
    "# 6. Training Model on Dataset"
   ]
  },
  {
   "cell_type": "code",
   "execution_count": 135,
   "id": "cc3b4d4b",
   "metadata": {},
   "outputs": [
    {
     "name": "stderr",
     "output_type": "stream",
     "text": [
      "WARNING:absl:`lr` is deprecated in Keras optimizer, please use `learning_rate` or use the legacy optimizer, e.g.,tf.keras.optimizers.legacy.Adam.\n"
     ]
    },
    {
     "name": "stdout",
     "output_type": "stream",
     "text": [
      "Model: \"sequential_8\"\n",
      "_________________________________________________________________\n",
      " Layer (type)                Output Shape              Param #   \n",
      "=================================================================\n",
      " vgg16 (Functional)          (None, 16, 18, 512)       14714688  \n",
      "                                                                 \n",
      " sequential_7 (Sequential)   (None, 4)                 75630340  \n",
      "                                                                 \n",
      "=================================================================\n",
      "Total params: 90345028 (344.64 MB)\n",
      "Trainable params: 90345028 (344.64 MB)\n",
      "Non-trainable params: 0 (0.00 Byte)\n",
      "_________________________________________________________________\n"
     ]
    }
   ],
   "source": [
    "# Define the custom top\n",
    "def custom_top(input_shape, num_classes):\n",
    "    model = Sequential()\n",
    "    model.add(Flatten(input_shape=input_shape))  # Flatten the input\n",
    "    model.add(Dense(512, activation='relu'))\n",
    "    model.add(Dense(256, activation='relu'))\n",
    "    model.add(Dense(num_classes, activation='sigmoid'))\n",
    "    return model\n",
    "\n",
    "# Build the VGG16 base model (excluding the top)\n",
    "vgg_base = VGG16(weights='imagenet', include_top=False, input_shape=(531, 600, 3))\n",
    "\n",
    "# Flatten the output of the VGG16 base model\n",
    "flattened_output = Flatten()(vgg_base.output)\n",
    "\n",
    "# Create the custom top\n",
    "custom_top_model = custom_top(flattened_output.shape[1:], 4)  # Use the shape of the flattened output\n",
    "\n",
    "# Combine the VGG16 base and custom top\n",
    "model = Sequential([\n",
    "    vgg_base,\n",
    "    custom_top_model\n",
    "])\n",
    "\n",
    "# Compile the model\n",
    "model.compile(\n",
    "    optimizer=Adam(lr=0.001),\n",
    "    loss='binary_crossentropy',  # Use 'binary_crossentropy' for binary classification\n",
    "    metrics=['accuracy']\n",
    ")\n",
    "\n",
    "# Display the model summary\n",
    "model.summary()\n"
   ]
  },
  {
   "cell_type": "code",
   "execution_count": 22,
   "id": "d34df756",
   "metadata": {},
   "outputs": [],
   "source": [
    "os.makedirs(os.path.join(DATA_DIR, \"test\",\"test_padded\", \"images\"))"
   ]
  },
  {
   "cell_type": "code",
   "execution_count": 23,
   "id": "0ddf24aa",
   "metadata": {},
   "outputs": [],
   "source": [
    "for image in os.listdir(os.path.join(DATA_DIR, folders[1], \"images\")):\n",
    "    img = cv2.imread(os.path.join(DATA_DIR, folders[1], \"images\", image))\n",
    "\n",
    "    img = pad_image(img, max_image_size)\n",
    "\n",
    "    # Assuming 'image_name' is the name you want to give to the saved image\n",
    "    image_name = image\n",
    "\n",
    "    # Specify the full path to save the image\n",
    "    image_path = os.path.join(DATA_DIR, \"test\",\"test_padded\", image_name)\n",
    "\n",
    "    # Save the image using cv2.imwrite\n",
    "    cv2.imwrite(image_path, img)\n"
   ]
  },
  {
   "cell_type": "code",
   "execution_count": 199,
   "id": "d4fc2615",
   "metadata": {},
   "outputs": [
    {
     "data": {
      "text/plain": [
       "(388, 531, 600, 3)"
      ]
     },
     "execution_count": 199,
     "metadata": {},
     "output_type": "execute_result"
    }
   ],
   "source": [
    "training_images = []\n",
    "\n",
    "for image in os.listdir(os.path.join(DATA_DIR, folders[0], \"images\")):\n",
    "    img = cv2.imread(os.path.join(DATA_DIR, folders[0], \"images\", image))\n",
    "\n",
    "    img = pad_image(img, max_image_size)\n",
    "\n",
    "    img = img / 255\n",
    "\n",
    "    training_images.append(img)\n",
    "\n",
    "training_images  = np.array(training_images)\n",
    "\n",
    "training_images.shape"
   ]
  },
  {
   "cell_type": "code",
   "execution_count": 201,
   "id": "816d44bc",
   "metadata": {},
   "outputs": [
    {
     "data": {
      "text/plain": [
       "(388, 4)"
      ]
     },
     "execution_count": 201,
     "metadata": {},
     "output_type": "execute_result"
    }
   ],
   "source": [
    "training_labels = []\n",
    "\n",
    "for label in os.listdir(os.path.join(DATA_DIR, folders[0], \"labels\")):\n",
    "    lb = os.path.join(DATA_DIR, folders[0], \"labels\", label)\n",
    "\n",
    "    parsed_label = parseXML(lb)\n",
    "\n",
    "    # Normalize each element in the parsed_label list\n",
    "    parsed_label = [value / 255.0 for value in parsed_label]\n",
    "\n",
    "    training_labels.append(parsed_label)\n",
    "    \n",
    "training_labels = np.array(training_labels)\n",
    "\n",
    "# Ensure that the shape of the array is as expected\n",
    "training_labels.shape"
   ]
  },
  {
   "cell_type": "code",
   "execution_count": 203,
   "id": "55355abc",
   "metadata": {},
   "outputs": [
    {
     "ename": "MemoryError",
     "evalue": "Unable to allocate 1.38 GiB for an array with shape (388, 531, 600, 3) and data type float32",
     "output_type": "error",
     "traceback": [
      "\u001b[1;31m---------------------------------------------------------------------------\u001b[0m",
      "\u001b[1;31mMemoryError\u001b[0m                               Traceback (most recent call last)",
      "Cell \u001b[1;32mIn[203], line 2\u001b[0m\n\u001b[0;32m      1\u001b[0m \u001b[38;5;66;03m# Fit the model to dummy data\u001b[39;00m\n\u001b[1;32m----> 2\u001b[0m \u001b[43mmodel\u001b[49m\u001b[38;5;241;43m.\u001b[39;49m\u001b[43mfit\u001b[49m\u001b[43m(\u001b[49m\u001b[43mtraining_images\u001b[49m\u001b[43m,\u001b[49m\u001b[43m \u001b[49m\u001b[43mtraining_labels\u001b[49m\u001b[43m,\u001b[49m\u001b[43m \u001b[49m\u001b[43mepochs\u001b[49m\u001b[38;5;241;43m=\u001b[39;49m\u001b[38;5;241;43m5\u001b[39;49m\u001b[43m)\u001b[49m\n",
      "File \u001b[1;32m~\\AppData\\Roaming\\Python\\Python38\\site-packages\\keras\\src\\utils\\traceback_utils.py:70\u001b[0m, in \u001b[0;36mfilter_traceback.<locals>.error_handler\u001b[1;34m(*args, **kwargs)\u001b[0m\n\u001b[0;32m     67\u001b[0m     filtered_tb \u001b[38;5;241m=\u001b[39m _process_traceback_frames(e\u001b[38;5;241m.\u001b[39m__traceback__)\n\u001b[0;32m     68\u001b[0m     \u001b[38;5;66;03m# To get the full stack trace, call:\u001b[39;00m\n\u001b[0;32m     69\u001b[0m     \u001b[38;5;66;03m# `tf.debugging.disable_traceback_filtering()`\u001b[39;00m\n\u001b[1;32m---> 70\u001b[0m     \u001b[38;5;28;01mraise\u001b[39;00m e\u001b[38;5;241m.\u001b[39mwith_traceback(filtered_tb) \u001b[38;5;28;01mfrom\u001b[39;00m \u001b[38;5;28;01mNone\u001b[39;00m\n\u001b[0;32m     71\u001b[0m \u001b[38;5;28;01mfinally\u001b[39;00m:\n\u001b[0;32m     72\u001b[0m     \u001b[38;5;28;01mdel\u001b[39;00m filtered_tb\n",
      "File \u001b[1;32m~\\AppData\\Roaming\\Python\\Python38\\site-packages\\tensorflow\\python\\framework\\constant_op.py:98\u001b[0m, in \u001b[0;36mconvert_to_eager_tensor\u001b[1;34m(value, ctx, dtype)\u001b[0m\n\u001b[0;32m     96\u001b[0m     dtype \u001b[38;5;241m=\u001b[39m dtypes\u001b[38;5;241m.\u001b[39mas_dtype(dtype)\u001b[38;5;241m.\u001b[39mas_datatype_enum\n\u001b[0;32m     97\u001b[0m ctx\u001b[38;5;241m.\u001b[39mensure_initialized()\n\u001b[1;32m---> 98\u001b[0m \u001b[38;5;28;01mreturn\u001b[39;00m \u001b[43mops\u001b[49m\u001b[38;5;241;43m.\u001b[39;49m\u001b[43mEagerTensor\u001b[49m\u001b[43m(\u001b[49m\u001b[43mvalue\u001b[49m\u001b[43m,\u001b[49m\u001b[43m \u001b[49m\u001b[43mctx\u001b[49m\u001b[38;5;241;43m.\u001b[39;49m\u001b[43mdevice_name\u001b[49m\u001b[43m,\u001b[49m\u001b[43m \u001b[49m\u001b[43mdtype\u001b[49m\u001b[43m)\u001b[49m\n",
      "\u001b[1;31mMemoryError\u001b[0m: Unable to allocate 1.38 GiB for an array with shape (388, 531, 600, 3) and data type float32"
     ]
    }
   ],
   "source": [
    "# Fit the model to dummy data\n",
    "model.fit(training_images, training_labels, epochs=5)"
   ]
  }
 ],
 "metadata": {
  "kernelspec": {
   "display_name": "My_Kernel",
   "language": "python",
   "name": "mykernel"
  },
  "language_info": {
   "codemirror_mode": {
    "name": "ipython",
    "version": 3
   },
   "file_extension": ".py",
   "mimetype": "text/x-python",
   "name": "python",
   "nbconvert_exporter": "python",
   "pygments_lexer": "ipython3",
   "version": "3.11.0"
  }
 },
 "nbformat": 4,
 "nbformat_minor": 5
}
